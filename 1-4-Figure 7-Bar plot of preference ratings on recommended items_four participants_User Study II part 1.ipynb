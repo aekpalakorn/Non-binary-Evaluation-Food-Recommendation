{
 "cells": [
  {
   "cell_type": "code",
   "execution_count": 1,
   "id": "b1ade236",
   "metadata": {},
   "outputs": [],
   "source": [
    "%matplotlib inline\n",
    "\n",
    "import os\n",
    "\n",
    "import pandas as pd\n",
    "import seaborn as sns\n",
    "import matplotlib.pyplot as plt\n",
    "\n",
    "from src.config import FIG_DIR, DATA_DIR"
   ]
  },
  {
   "cell_type": "code",
   "execution_count": 2,
   "id": "a57e558d",
   "metadata": {},
   "outputs": [],
   "source": [
    "figure_data_file = os.path.join(FIG_DIR, 'fig_7_data.csv')\n",
    "figure_name = os.path.join(FIG_DIR, 'paper_fig_7.png')\n",
    "\n",
    "if not os.path.exists(figure_data_file):\n",
    "\n",
    "    preference_rating_file = os.path.join(DATA_DIR, 'UserStudy2', 'preference_ratings.csv')\n",
    "    df = pd.read_csv(preference_rating_file)\n",
    "    selected_users = {6: 'User 1', 45: 'User 2', 37: 'User 3', 30: 'User 4'}\n",
    "    df = df[df['user'].isin(selected_users)]\n",
    "    df['Sample user'] = df['user'].map(selected_users)\n",
    "    qn_model = {1: 'MixtureTW', 2: 'SASRec', 3: 'NMF', 4: 'Personal', 5: 'FPMC'}\n",
    "    models = ['Personal','MixtureTW', 'NMF', 'FPMC', 'SASRec']\n",
    "    df['Algorithm'] = df['qn'].map(qn_model)\n",
    "    df['Algorithm'] = pd.Categorical(df['Algorithm'], categories=models, ordered=True)\n",
    "    \n",
    "    cols = ['Sample user', 'Algorithm', 'rating']\n",
    "    df = df[cols].sort_values(['Sample user', 'Algorithm'])\n",
    "\n",
    "    df.to_csv(figure_data_file, index=False)"
   ]
  },
  {
   "cell_type": "markdown",
   "id": "2cd8d1a1",
   "metadata": {},
   "source": [
    "# Bar plot of preference ratings for sample users"
   ]
  },
  {
   "cell_type": "code",
   "execution_count": 3,
   "id": "579adb3a",
   "metadata": {},
   "outputs": [],
   "source": [
    "def plot_fig7(data, figure_name=figure_name, default_error_bar=False):    \n",
    "    plt.rc('pdf', fonttype=42)\n",
    "    sns.set(style=\"ticks\")\n",
    "    sns.set_context('paper', font_scale=1.3)\n",
    "    plt.subplots(figsize=(7, 3))\n",
    "\n",
    "    my_colors = dict(zip(['User 1', 'User 2', 'User 3', 'User 4'], \n",
    "                         ['lightgrey', 'darkgrey', 'grey', 'dimgrey'][::-1]))\n",
    "    \n",
    "    if default_error_bar:\n",
    "        ax = sns.barplot(data=data, x='Algorithm', y='rating', hue='Sample user', palette=my_colors)\n",
    "    else:\n",
    "        capsize = .05\n",
    "        ax = sns.barplot(data=data, x='Algorithm', y='rating', hue='Sample user', palette=my_colors, capsize=capsize)\n",
    "        patches = ax.patches\n",
    "        lines_per_err = 3\n",
    "        for i, line in enumerate(ax.get_lines()):\n",
    "            newcolor = patches[i // lines_per_err].get_facecolor()\n",
    "            line.set_color(newcolor)\n",
    "\n",
    "    ax.set_ylim(ymin=-0.1, ymax = 5)\n",
    "    ax.grid(ls=\"dotted\")\n",
    "    ax.set_ylabel('Preference ratings, $r^p_i(v_j)$') #, $v_j$ in $RecList_{algo}(i,10)$\n",
    "    ax.set_xlabel('') # 'Almorithms'\n",
    "    ax.legend(title=\"Sample user\", loc='center right', bbox_to_anchor=(1.25, 0.5))\n",
    "\n",
    "    sns.despine(offset=10, trim=True) \n",
    "    plt.tight_layout()\n",
    "    plt.savefig(figure_name, dpi=200, transparent=False, bbox_inches='tight', pad_inches=0.0)\n",
    "    plt.show()"
   ]
  },
  {
   "cell_type": "code",
   "execution_count": 4,
   "id": "6e16ad3a",
   "metadata": {},
   "outputs": [
    {
     "data": {
      "image/png": "[encoded data removed]",
      "text/plain": [
       "<Figure size 504x216 with 1 Axes>"
      ]
     },
     "metadata": {},
     "output_type": "display_data"
    }
   ],
   "source": [
    "data = pd.read_csv(figure_data_file)\n",
    "plot_fig7(data)"
   ]
  },
  {
   "cell_type": "code",
   "execution_count": null,
   "id": "ec8dec59",
   "metadata": {},
   "outputs": [],
   "source": []
  }
 ],
 "metadata": {
  "kernelspec": {
   "display_name": "Python 3 (ipykernel)",
   "language": "python",
   "name": "python3"
  },
  "language_info": {
   "codemirror_mode": {
    "name": "ipython",
    "version": 3
   },
   "file_extension": ".py",
   "mimetype": "text/x-python",
   "name": "python",
   "nbconvert_exporter": "python",
   "pygments_lexer": "ipython3",
   "version": "3.9.7"
  }
 },
 "nbformat": 4,
 "nbformat_minor": 5
}

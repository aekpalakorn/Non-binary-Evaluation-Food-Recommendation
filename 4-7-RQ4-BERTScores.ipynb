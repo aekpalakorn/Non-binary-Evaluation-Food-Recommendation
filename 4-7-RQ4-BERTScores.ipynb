{
 "cells": [
  {
   "cell_type": "markdown",
   "id": "b281a00b",
   "metadata": {},
   "source": [
    "# Loading data and necessary files"
   ]
  },
  {
   "cell_type": "code",
   "execution_count": 26,
   "id": "3476e86e",
   "metadata": {},
   "outputs": [],
   "source": [
    "from bert_score import BERTScorer\n",
    "import numpy as np\n",
    "import os\n",
    "import pandas as pd\n",
    "from src.config import DATA_DIR, TEMP_DIR, FNAMES_BERT_SCORES_FILE\n",
    "from src.io import load_pickle, save_pickle\n",
    "import time\n",
    "\n",
    "# Global variables:\n",
    "# name_df, gt_df, rec_df\n",
    "# models\n",
    "\n",
    "name_df = pd.read_csv(os.path.join(TEMP_DIR, 'UserStudy1', 'full_name_ref.csv'))\n",
    "gt_df = pd.read_csv(os.path.join(TEMP_DIR, 'UserStudy1', 'user_ground_truth.csv'))\n",
    "rec_df = pd.read_csv(os.path.join(TEMP_DIR, 'UserStudy1', 'user_recommendations.csv'))\n",
    "rec_df = rec_df.rename(columns={\"item_idx\": \"PID\"})\n",
    "\n",
    "gt_df = gt_df.sort_values(by=['UID', 'PID'])\n",
    "rec_df = rec_df.sort_values(by=['UID', 'PID'])\n",
    "\n",
    "gt_df = pd.merge(gt_df, name_df, how='left', on=['PID'])\n",
    "gt_df = gt_df.rename(columns={\"name\": \"gt_item\"})\n",
    "rec_df = pd.merge(rec_df, name_df, how='left', on=['PID'])\n",
    "rec_df = rec_df.rename(columns={\"name\": \"rec_item\"})\n",
    "\n",
    "models = sorted(set(rec_df['models'].values))"
   ]
  },
  {
   "cell_type": "code",
   "execution_count": 2,
   "id": "8838862d",
   "metadata": {},
   "outputs": [
    {
     "name": "stderr",
     "output_type": "stream",
     "text": [
      "Some weights of the model checkpoint at roberta-large were not used when initializing RobertaModel: ['lm_head.bias', 'lm_head.dense.bias', 'lm_head.dense.weight', 'lm_head.decoder.weight', 'lm_head.layer_norm.bias', 'lm_head.layer_norm.weight']\n",
      "- This IS expected if you are initializing RobertaModel from the checkpoint of a model trained on another task or with another architecture (e.g. initializing a BertForSequenceClassification model from a BertForPreTraining model).\n",
      "- This IS NOT expected if you are initializing RobertaModel from the checkpoint of a model that you expect to be exactly identical (initializing a BertForSequenceClassification model from a BertForSequenceClassification model).\n"
     ]
    },
    {
     "name": "stdout",
     "output_type": "stream",
     "text": [
      "19.566107749938965\n"
     ]
    }
   ],
   "source": [
    "# Global variables:\n",
    "# sim_dict\n",
    "# scorer\n",
    "\n",
    "if os.path.exists(FNAMES_BERT_SCORES_FILE):\n",
    "    sim_dict = load_pickle(FNAMES_BERT_SCORES_FILE)\n",
    "else:\n",
    "    sim_dict = {}\n",
    "\n",
    "loaded_sim_dict_len = len(sim_dict)\n",
    "print('Loaded pre-computed BERTScores for tags, %s total records' % loaded_sim_dict_len)\n",
    "    \n",
    "import time\n",
    "start = time.time()\n",
    "scorer = BERTScorer(lang=\"en\", rescale_with_baseline=True, device=\"cuda\")\n",
    "end = time.time()\n",
    "print(end - start)"
   ]
  },
  {
   "cell_type": "code",
   "execution_count": 3,
   "id": "64ee056a",
   "metadata": {},
   "outputs": [
    {
     "name": "stdout",
     "output_type": "stream",
     "text": [
      "['adaloyal', 'bpr', 'fpmc', 'global', 'lda', 'mixture', 'mixture_decay', 'nmf', 'personal', 'sasrec', 'wrmf']\n",
      "869540\n"
     ]
    }
   ],
   "source": [
    "print(models)\n",
    "print(len(sim_dict))"
   ]
  },
  {
   "cell_type": "code",
   "execution_count": 4,
   "id": "ae5f33bf",
   "metadata": {},
   "outputs": [
    {
     "name": "stdout",
     "output_type": "stream",
     "text": [
      "Index(['name', 'PID'], dtype='object')\n",
      "Index(['UID', 'TS', 'PID', 'gt_item'], dtype='object')\n",
      "Index(['UID', 'models', 'pred_rank', 'PID', 'is_positive', 'rec_item'], dtype='object')\n"
     ]
    }
   ],
   "source": [
    "print(name_df.columns)\n",
    "print(gt_df.columns)\n",
    "print(rec_df.columns)"
   ]
  },
  {
   "cell_type": "code",
   "execution_count": 5,
   "id": "43f6fce9",
   "metadata": {},
   "outputs": [
    {
     "data": {
      "text/plain": [
       "name    47789\n",
       "PID     47789\n",
       "dtype: int64"
      ]
     },
     "execution_count": 5,
     "metadata": {},
     "output_type": "execute_result"
    }
   ],
   "source": [
    "name_df.nunique()"
   ]
  },
  {
   "cell_type": "code",
   "execution_count": 6,
   "id": "7da8742c",
   "metadata": {},
   "outputs": [
    {
     "data": {
      "text/plain": [
       "UID         6916\n",
       "TS           143\n",
       "PID        14532\n",
       "gt_item    14532\n",
       "dtype: int64"
      ]
     },
     "execution_count": 6,
     "metadata": {},
     "output_type": "execute_result"
    }
   ],
   "source": [
    "gt_df.nunique()"
   ]
  },
  {
   "cell_type": "code",
   "execution_count": 7,
   "id": "cdd66569",
   "metadata": {},
   "outputs": [
    {
     "data": {
      "text/plain": [
       "UID             6916\n",
       "models            11\n",
       "pred_rank         10\n",
       "PID            47789\n",
       "is_positive        2\n",
       "rec_item       47789\n",
       "dtype: int64"
      ]
     },
     "execution_count": 7,
     "metadata": {},
     "output_type": "execute_result"
    }
   ],
   "source": [
    "rec_df.nunique()"
   ]
  },
  {
   "cell_type": "markdown",
   "id": "1ccc7995",
   "metadata": {},
   "source": [
    "# Data Cleaning\n",
    "Some models, i.e., adaloyal, fpmc, and personal, predicted more than 1 item for certain ranks for certain users (N=19526). In that case, we will randomly select one item to represet each nth-rank item."
   ]
  },
  {
   "cell_type": "code",
   "execution_count": 8,
   "id": "f0ee787f",
   "metadata": {},
   "outputs": [
    {
     "name": "stdout",
     "output_type": "stream",
     "text": [
      "(838841, 6)\n"
     ]
    },
    {
     "data": {
      "text/html": [
       "<div>\n",
       "<style scoped>\n",
       "    .dataframe tbody tr th:only-of-type {\n",
       "        vertical-align: middle;\n",
       "    }\n",
       "\n",
       "    .dataframe tbody tr th {\n",
       "        vertical-align: top;\n",
       "    }\n",
       "\n",
       "    .dataframe thead th {\n",
       "        text-align: right;\n",
       "    }\n",
       "</style>\n",
       "<table border=\"1\" class=\"dataframe\">\n",
       "  <thead>\n",
       "    <tr style=\"text-align: right;\">\n",
       "      <th></th>\n",
       "      <th>UID</th>\n",
       "      <th>models</th>\n",
       "      <th>pred_rank</th>\n",
       "      <th>PID</th>\n",
       "      <th>is_positive</th>\n",
       "      <th>rec_item</th>\n",
       "    </tr>\n",
       "  </thead>\n",
       "  <tbody>\n",
       "    <tr>\n",
       "      <th>0</th>\n",
       "      <td>230</td>\n",
       "      <td>fpmc</td>\n",
       "      <td>1</td>\n",
       "      <td>47789</td>\n",
       "      <td>47789</td>\n",
       "      <td>47789</td>\n",
       "    </tr>\n",
       "    <tr>\n",
       "      <th>1</th>\n",
       "      <td>4945</td>\n",
       "      <td>personal</td>\n",
       "      <td>4</td>\n",
       "      <td>94</td>\n",
       "      <td>94</td>\n",
       "      <td>94</td>\n",
       "    </tr>\n",
       "    <tr>\n",
       "      <th>2</th>\n",
       "      <td>4707</td>\n",
       "      <td>personal</td>\n",
       "      <td>4</td>\n",
       "      <td>74</td>\n",
       "      <td>74</td>\n",
       "      <td>74</td>\n",
       "    </tr>\n",
       "    <tr>\n",
       "      <th>3</th>\n",
       "      <td>4105</td>\n",
       "      <td>personal</td>\n",
       "      <td>3</td>\n",
       "      <td>71</td>\n",
       "      <td>71</td>\n",
       "      <td>71</td>\n",
       "    </tr>\n",
       "    <tr>\n",
       "      <th>4</th>\n",
       "      <td>4166</td>\n",
       "      <td>personal</td>\n",
       "      <td>7</td>\n",
       "      <td>63</td>\n",
       "      <td>63</td>\n",
       "      <td>63</td>\n",
       "    </tr>\n",
       "    <tr>\n",
       "      <th>...</th>\n",
       "      <td>...</td>\n",
       "      <td>...</td>\n",
       "      <td>...</td>\n",
       "      <td>...</td>\n",
       "      <td>...</td>\n",
       "      <td>...</td>\n",
       "    </tr>\n",
       "    <tr>\n",
       "      <th>19521</th>\n",
       "      <td>5882</td>\n",
       "      <td>adaloyal</td>\n",
       "      <td>9</td>\n",
       "      <td>2</td>\n",
       "      <td>2</td>\n",
       "      <td>2</td>\n",
       "    </tr>\n",
       "    <tr>\n",
       "      <th>19522</th>\n",
       "      <td>50</td>\n",
       "      <td>personal</td>\n",
       "      <td>5</td>\n",
       "      <td>2</td>\n",
       "      <td>2</td>\n",
       "      <td>2</td>\n",
       "    </tr>\n",
       "    <tr>\n",
       "      <th>19523</th>\n",
       "      <td>3405</td>\n",
       "      <td>personal</td>\n",
       "      <td>9</td>\n",
       "      <td>2</td>\n",
       "      <td>2</td>\n",
       "      <td>2</td>\n",
       "    </tr>\n",
       "    <tr>\n",
       "      <th>19524</th>\n",
       "      <td>104</td>\n",
       "      <td>personal</td>\n",
       "      <td>5</td>\n",
       "      <td>2</td>\n",
       "      <td>2</td>\n",
       "      <td>2</td>\n",
       "    </tr>\n",
       "    <tr>\n",
       "      <th>19525</th>\n",
       "      <td>2496</td>\n",
       "      <td>personal</td>\n",
       "      <td>4</td>\n",
       "      <td>2</td>\n",
       "      <td>2</td>\n",
       "      <td>2</td>\n",
       "    </tr>\n",
       "  </tbody>\n",
       "</table>\n",
       "<p>19526 rows × 6 columns</p>\n",
       "</div>"
      ],
      "text/plain": [
       "        UID    models  pred_rank    PID  is_positive  rec_item\n",
       "0       230      fpmc          1  47789        47789     47789\n",
       "1      4945  personal          4     94           94        94\n",
       "2      4707  personal          4     74           74        74\n",
       "3      4105  personal          3     71           71        71\n",
       "4      4166  personal          7     63           63        63\n",
       "...     ...       ...        ...    ...          ...       ...\n",
       "19521  5882  adaloyal          9      2            2         2\n",
       "19522    50  personal          5      2            2         2\n",
       "19523  3405  personal          9      2            2         2\n",
       "19524   104  personal          5      2            2         2\n",
       "19525  2496  personal          4      2            2         2\n",
       "\n",
       "[19526 rows x 6 columns]"
      ]
     },
     "execution_count": 8,
     "metadata": {},
     "output_type": "execute_result"
    }
   ],
   "source": [
    "print(rec_df.shape)\n",
    "count_df = rec_df.groupby(['UID','models','pred_rank']).count().sort_values(by=['rec_item'], ascending=False)\n",
    "count_df = count_df.reset_index()\n",
    "count_df[count_df['PID']>1]"
   ]
  },
  {
   "cell_type": "code",
   "execution_count": 9,
   "id": "a4ca5f04",
   "metadata": {},
   "outputs": [
    {
     "name": "stdout",
     "output_type": "stream",
     "text": [
      "(730409, 6)\n",
      "29.80 sec\n"
     ]
    }
   ],
   "source": [
    "start = time.time()\n",
    "rec_df = rec_df.groupby(['UID', 'models', 'pred_rank']).sample()\n",
    "end = time.time()\n",
    "print(rec_df.shape)\n",
    "print('%.2f sec' % (end-start))"
   ]
  },
  {
   "cell_type": "markdown",
   "id": "43d54798",
   "metadata": {},
   "source": [
    "# Scoring functions"
   ]
  },
  {
   "cell_type": "code",
   "execution_count": 10,
   "id": "06753cdb",
   "metadata": {},
   "outputs": [],
   "source": [
    "def get_scores(single_cands, multi_refs):\n",
    "    P_mul, R_mul, F_mul = scorer.score([single_cands], [multi_refs])\n",
    "    return P_mul.item(), R_mul.item(), F_mul.item()\n",
    "\n",
    "def scores(line, dict_lookup=True):\n",
    "    if line['gt_item'].lower() == line['rec_item'].lower():\n",
    "        return 1, 1, 1\n",
    "    \n",
    "    x, y = tuple(sorted([line['gt_item'].lower(), line['rec_item'].lower()]))\n",
    "    \n",
    "    if dict_lookup and len(sim_dict) > 0:\n",
    "        if (x, y) in sim_dict:\n",
    "            scores = sim_dict[(x, y)]\n",
    "            return scores['P'], scores['R'], scores['F']\n",
    "\n",
    "    P, R, F = get_scores(x, y)\n",
    "    sim_dict[(x, y)] = {'P': P, 'R': R, 'F': F}\n",
    "    return P, R, F"
   ]
  },
  {
   "cell_type": "markdown",
   "id": "df5e411c",
   "metadata": {},
   "source": [
    "# Benchmarking\n",
    "\n",
    "To compute BERTSCcores from scratch, it takes about (without GPU):\n",
    "* 1 min for 580 pairs \n",
    "* 1 sec for 10 pairs\n",
    "* 8 hours for 304,335 pairs (adaloyal)\n",
    "\n",
    "With GPU:\n",
    "* 2.5 min for about 9,000 pairs (200 users) or 1 hour for the whole data for one model (200K - 300K pairs)"
   ]
  },
  {
   "cell_type": "raw",
   "id": "bbe6b87a",
   "metadata": {},
   "source": [
    "# Debugging\n",
    "# 'adaloyal', 'bpr', 'fpmc', 'global', 'lda', 'mixture', 'mixture_decay', 'nmf', 'personal', 'sasrec', 'wrmf'\n",
    "\n",
    "start = time.time()\n",
    "m = 'adaloyal'\n",
    "left_df = gt_df[gt_df['UID']<=0]\n",
    "right_df = rec_df[(rec_df['UID']<=0) & (rec_df['models']==m)]\n",
    "eval_df = pd.merge(left_df[['UID', 'gt_item']], right_df[['UID', 'rec_item',]], how='outer', on=['UID'])\n",
    "eval_df['P'], eval_df['R'], eval_df['F1'] = zip(*eval_df.apply(scores, dict_lookup=False, axis=1))\n",
    "end = time.time()\n",
    "print(len(eval_df))\n",
    "print('%.4f sec' % (end-start))"
   ]
  },
  {
   "cell_type": "markdown",
   "id": "637d13ec",
   "metadata": {},
   "source": [
    "# Main\n",
    "\n",
    "Compute BERTScores for each model. Data will be split into batches so that results can be saved to CSV periodically."
   ]
  },
  {
   "cell_type": "code",
   "execution_count": 201,
   "id": "76a12ab9",
   "metadata": {},
   "outputs": [
    {
     "name": "stdout",
     "output_type": "stream",
     "text": [
      "total rows=8400\tstart_uid=0\tend_uid=200\telapsed_time=0.60 min\n",
      "total rows=8920\tstart_uid=200\tend_uid=400\telapsed_time=0.53 min\n",
      "total rows=8920\tstart_uid=400\tend_uid=600\telapsed_time=0.57 min\n",
      "total rows=9180\tstart_uid=600\tend_uid=800\telapsed_time=0.63 min\n",
      "total rows=8240\tstart_uid=800\tend_uid=1000\telapsed_time=0.53 min\n",
      "total rows=8950\tstart_uid=1000\tend_uid=1200\telapsed_time=0.61 min\n",
      "total rows=8660\tstart_uid=1200\tend_uid=1400\telapsed_time=0.59 min\n",
      "total rows=8680\tstart_uid=1400\tend_uid=1600\telapsed_time=0.53 min\n",
      "total rows=8710\tstart_uid=1600\tend_uid=1800\telapsed_time=0.62 min\n",
      "total rows=9090\tstart_uid=1800\tend_uid=2000\telapsed_time=0.63 min\n",
      "total rows=9510\tstart_uid=2000\tend_uid=2200\telapsed_time=0.63 min\n",
      "total rows=8000\tstart_uid=2200\tend_uid=2400\telapsed_time=0.00 min\n",
      "total rows=8520\tstart_uid=2400\tend_uid=2600\telapsed_time=0.00 min\n",
      "total rows=7890\tstart_uid=2600\tend_uid=2800\telapsed_time=0.00 min\n",
      "total rows=8260\tstart_uid=2800\tend_uid=3000\telapsed_time=0.00 min\n",
      "total rows=7860\tstart_uid=3000\tend_uid=3200\telapsed_time=0.00 min\n",
      "total rows=8890\tstart_uid=3200\tend_uid=3400\telapsed_time=0.00 min\n",
      "total rows=8620\tstart_uid=3400\tend_uid=3600\telapsed_time=0.00 min\n",
      "total rows=8890\tstart_uid=3600\tend_uid=3800\telapsed_time=0.00 min\n",
      "total rows=8820\tstart_uid=3800\tend_uid=4000\telapsed_time=0.00 min\n",
      "total rows=8770\tstart_uid=4000\tend_uid=4200\telapsed_time=0.00 min\n",
      "total rows=8360\tstart_uid=4200\tend_uid=4400\telapsed_time=0.00 min\n",
      "total rows=8860\tstart_uid=4400\tend_uid=4600\telapsed_time=0.00 min\n",
      "total rows=7850\tstart_uid=4600\tend_uid=4800\telapsed_time=0.00 min\n",
      "total rows=8280\tstart_uid=4800\tend_uid=5000\telapsed_time=0.00 min\n",
      "total rows=8860\tstart_uid=5000\tend_uid=5200\telapsed_time=0.00 min\n",
      "total rows=8480\tstart_uid=5200\tend_uid=5400\telapsed_time=0.00 min\n",
      "total rows=8640\tstart_uid=5400\tend_uid=5600\telapsed_time=0.00 min\n",
      "total rows=8500\tstart_uid=5600\tend_uid=5800\telapsed_time=0.00 min\n",
      "total rows=9100\tstart_uid=5800\tend_uid=6000\telapsed_time=0.00 min\n",
      "total rows=9140\tstart_uid=6000\tend_uid=6200\telapsed_time=0.00 min\n",
      "total rows=8820\tstart_uid=6200\tend_uid=6400\telapsed_time=0.00 min\n",
      "total rows=8950\tstart_uid=6400\tend_uid=6600\telapsed_time=0.00 min\n",
      "total rows=8660\tstart_uid=6600\tend_uid=6800\telapsed_time=0.00 min\n",
      "total rows=4850\tstart_uid=6800\tend_uid=7000\telapsed_time=0.00 min\n",
      "total_time=7.18 min\n"
     ]
    }
   ],
   "source": [
    "start = time.time()\n",
    "# 'adaloyal', 'bpr', 'fpmc', 'global', 'lda', 'mixture', 'mixture_decay', 'nmf', 'personal', 'sasrec', 'wrmf', 'random'\n",
    "m = 'bpr'\n",
    "start_uid = 0\n",
    "batch_size = 200\n",
    "max_uid = 7000\n",
    "\n",
    "# We select each batch based on UID and models. batch_size=200 normally results in ~9000 rows of data for computing per batch.\n",
    "while start_uid < max_uid:\n",
    "    istart = time.time()\n",
    "    # Selecting subset of data\n",
    "    end_uid = start_uid + batch_size\n",
    "    left_df = gt_df[(gt_df['UID']>=start_uid) & (gt_df['UID']<end_uid)]\n",
    "    \n",
    "    if m == 'random':\n",
    "        pd.set_option('mode.chained_assignment', None) # suppress the chained_assignment warning\n",
    "        rand_state = 100 # random state. 100 in the main experiment.\n",
    "        right_df = rec_df[(rec_df['UID']>=start_uid) & (rec_df['UID']<end_uid) & (rec_df['models']=='global')] # use global as a template. But any model will do.\n",
    "        right_df['rand_item'] = list(name_df['name'].sample(n = right_df.shape[0], random_state = rand_state)) # sample from all possible food items stored in name_df\n",
    "        right_df = right_df.drop('rec_item', axis=1)\n",
    "        right_df = right_df.rename(columns={'rand_item': 'rec_item'})\n",
    "    else:\n",
    "        right_df = rec_df[(rec_df['UID']>=start_uid) & (rec_df['UID']<end_uid) & (rec_df['models']==m)]\n",
    "    \n",
    "    if len(left_df) == 0 and len(right_df) == 0:\n",
    "        break\n",
    "    \n",
    "    eval_df = pd.merge(left_df[['UID', 'gt_item']], right_df[['UID', 'rec_item',]], how='outer', on=['UID'])\n",
    "    \n",
    "    # Calculating BERTScores, will take quite some time if on a non-CUDA machine\n",
    "    eval_df['P'], eval_df['R'], eval_df['F1'] = zip(*eval_df.apply(scores, axis=1))\n",
    "    \n",
    "    iend = time.time()\n",
    "    eval_df.to_csv('data/temp/BERTScore/%s_uid_%s.csv' % (m, start_uid), index=False)\n",
    "    print('total rows=%s\\tstart_uid=%s\\tend_uid=%s\\telapsed_time=%.2f min' % (len(eval_df), start_uid, end_uid, (iend - istart)/60))\n",
    "    start_uid += batch_size\n",
    "    time.sleep(1)\n",
    "\n",
    "end = time.time()\n",
    "print('total_time=%.2f min' % ((end - start)/60))"
   ]
  },
  {
   "cell_type": "markdown",
   "id": "9d97abd9",
   "metadata": {},
   "source": [
    "Join all results into one file"
   ]
  },
  {
   "cell_type": "code",
   "execution_count": 202,
   "id": "c3d462e5",
   "metadata": {},
   "outputs": [],
   "source": [
    "# concatenating multiple results into one\n",
    "m = 'bpr'\n",
    "start_uid = 0\n",
    "batch_size = 200\n",
    "max_uid = 7000\n",
    "\n",
    "big_df = pd.DataFrame()\n",
    "\n",
    "while start_uid < max_uid:\n",
    "    try:\n",
    "        df = pd.read_csv('data/temp/BERTScore/%s_uid_%s.csv' % (m, start_uid))\n",
    "    except FileNotFoundError:\n",
    "        print('data/temp/BERTScore/%s_uid_%s.csv does not exist.' % (m, start_uid))\n",
    "    \n",
    "    big_df = pd.concat([big_df, df], ignore_index=True)\n",
    "    start_uid += batch_size\n",
    "\n",
    "big_df.to_csv('data/temp/BERTScore/%s.csv' % (m), index=False)"
   ]
  },
  {
   "cell_type": "markdown",
   "id": "24e51403",
   "metadata": {},
   "source": [
    "Computing aggregated top-k scores for each user and final scores for the model"
   ]
  },
  {
   "cell_type": "code",
   "execution_count": 203,
   "id": "119f3cd1",
   "metadata": {},
   "outputs": [
    {
     "name": "stdout",
     "output_type": "stream",
     "text": [
      "17.61 sec\n",
      "bpr\n",
      "P     0.243793\n",
      "R     0.246838\n",
      "F1    0.231384\n",
      "dtype: float64\n"
     ]
    }
   ],
   "source": [
    "start = time.time()\n",
    "rec_max_df = big_df.groupby(['UID', 'rec_item'])[['P', 'R', 'F1']].apply(max)\n",
    "user_mean_df = rec_max_df.reset_index().groupby(['UID'])[['P', 'R', 'F1']].mean()\n",
    "end = time.time()\n",
    "print('%.2f sec' % (end-start))\n",
    "print(m)\n",
    "print(user_mean_df.mean())"
   ]
  },
  {
   "cell_type": "markdown",
   "id": "b07c1aa2",
   "metadata": {},
   "source": [
    "Persisting computed scores to a pickle file"
   ]
  },
  {
   "cell_type": "code",
   "execution_count": 204,
   "id": "0717337b",
   "metadata": {},
   "outputs": [
    {
     "name": "stdout",
     "output_type": "stream",
     "text": [
      "1479308\n"
     ]
    }
   ],
   "source": [
    "print(len(sim_dict))\n",
    "# for k, v in sim_dict.items():\n",
    "#     print('%s\\t%s\\t%.2f\\t%.2f\\t%.2f' % (k[0], k[1], v['P'], v['R'], v['F']))"
   ]
  },
  {
   "cell_type": "code",
   "execution_count": 205,
   "id": "8c0d5377",
   "metadata": {},
   "outputs": [],
   "source": [
    "if len(sim_dict)>=loaded_sim_dict_len:\n",
    "    save_pickle(FNAMES_BERT_SCORES_FILE, sim_dict)\n",
    "    print('Saved pre-computed scores, %s total records' % len(sim_dict))"
   ]
  }
 ],
 "metadata": {
  "kernelspec": {
   "display_name": "Python 3 (ipykernel)",
   "language": "python",
   "name": "python3"
  },
  "language_info": {
   "codemirror_mode": {
    "name": "ipython",
    "version": 3
   },
   "file_extension": ".py",
   "mimetype": "text/x-python",
   "name": "python",
   "nbconvert_exporter": "python",
   "pygments_lexer": "ipython3",
   "version": "3.9.7"
  }
 },
 "nbformat": 4,
 "nbformat_minor": 5
}

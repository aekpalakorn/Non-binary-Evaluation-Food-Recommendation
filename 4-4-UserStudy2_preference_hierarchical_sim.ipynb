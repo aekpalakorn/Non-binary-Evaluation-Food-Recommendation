{
 "cells": [
  {
   "cell_type": "code",
   "execution_count": 56,
   "metadata": {},
   "outputs": [],
   "source": [
    "import os\n",
    "import re\n",
    "import itertools\n",
    "import pandas as pd\n",
    "\n",
    "from bert_score import BERTScorer\n",
    "from collections import defaultdict\n",
    "\n",
    "from src.config import substitution_rating_file, preference_rating_file\n",
    "from src.config import preference_rating_scores\n",
    "from src.config import label_file, label_file_full, weighing_scheme\n",
    "from src.config import BERT_F1_dict_file, lst_ref\n",
    "from src.io import load_pickle, save_pickle\n",
    "\n",
    "import warnings\n",
    "warnings.filterwarnings('ignore')"
   ]
  },
  {
   "cell_type": "code",
   "execution_count": 57,
   "metadata": {},
   "outputs": [
    {
     "name": "stdout",
     "output_type": "stream",
     "text": [
      "43678\n",
      "3.457052707672119\n"
     ]
    }
   ],
   "source": [
    "import time\n",
    "start = time.time()\n",
    "\n",
    "# BERT scores\n",
    "if os.path.exists(BERT_F1_dict_file):\n",
    "    sim_dict = load_pickle(BERT_F1_dict_file)\n",
    "else:\n",
    "    sim_dict = {}\n",
    "\n",
    "print(len(sim_dict))\n",
    "lst_ref = {v: k.split('__')[-1].replace('_', ' ') for k, v in lst_ref.items()}\n",
    "\n",
    "end = time.time()\n",
    "print(end - start)"
   ]
  },
  {
   "cell_type": "code",
   "execution_count": 58,
   "metadata": {},
   "outputs": [],
   "source": [
    "def process_food_name(s1):\n",
    "    # separators: \", \" + any of (integer, decimal & fraction) +\" \"\n",
    "    exp = r\", \\d+\\.\\d+ |, \\d+\\,\\d+ |, \\d+ |, \\d+\\/\\d+ \"\n",
    "    # remove content in parenthesis for finding the separator\n",
    "    if s1.count('(') == s1.count(')'):\n",
    "        s2 = re.sub(r'[(].*?[\\)]', ' ', s1)\n",
    "    else:\n",
    "        s2 = s1\n",
    "    try:\n",
    "        split_by = re.findall(exp, s2)[0]\n",
    "        return clean_name(s1.split(split_by)[0])\n",
    "    except:\n",
    "        return clean_name(s2)\n",
    "\n",
    "def clean_name(name):\n",
    "    name = name.replace(\"\\t\", \" \").replace(\"\\n\", \" \").replace(\"w/o\", \" no \").replace(\"w/\", \" \")\n",
    "    return re.sub(' +', ' ', name.strip()).lower()"
   ]
  },
  {
   "cell_type": "code",
   "execution_count": 59,
   "metadata": {},
   "outputs": [
    {
     "name": "stdout",
     "output_type": "stream",
     "text": [
      "0.03760385513305664\n"
     ]
    }
   ],
   "source": [
    "import time\n",
    "start = time.time()\n",
    "\n",
    "# ground truth\n",
    "df2 = pd.read_csv(substitution_rating_file)[['user', 'item_1']].drop_duplicates().reset_index(drop=True)\n",
    "df2 = df2[['user', 'item_1']]\n",
    "df2['item_gt'] = df2['item_1'].apply(process_food_name)\n",
    "\n",
    "# predictions\n",
    "df = pd.read_csv(preference_rating_file)\n",
    "df['item'] = df['choice'].apply(process_food_name)\n",
    "gt = df2.groupby('user')['item_gt'].apply(list).to_dict()\n",
    "df['gt'] = df['user'].map(gt)\n",
    "end = time.time()\n",
    "print(end - start)"
   ]
  },
  {
   "cell_type": "code",
   "execution_count": 60,
   "metadata": {},
   "outputs": [
    {
     "name": "stdout",
     "output_type": "stream",
     "text": [
      "Less than 5% labels are not matched: 1.33%\n"
     ]
    }
   ],
   "source": [
    "labels = load_pickle(label_file)\n",
    "concat_list = list(zip(labels['cat_info'], labels['label_summary']))\n",
    "label_index = dict()\n",
    "for i,j in concat_list:\n",
    "    label_index.update(zip(i,j))  \n",
    "\n",
    "index_label = {k:v for v,k in label_index.items()}\n",
    "\n",
    "# '_' connected tokens for l0 tags\n",
    "label_index_l0 = {i.split('__')[-1]:v for i,v in label_index.items() if len(i.split('__'))==3}\n",
    "l0_tags = sorted(label_index_l0.keys())\n",
    "\n",
    "label_with_food = defaultdict(list)\n",
    "def group_food_name(line):\n",
    "    s = line['food_name']\n",
    "    for i in line['label_summary']:\n",
    "        label_with_food[i].append(s)\n",
    "labels.apply(group_food_name, axis=1) \n",
    "\n",
    "label_name_l0 = {}\n",
    "for l,i in label_index_l0.items():\n",
    "    label_name_l0[l] = label_with_food[i]\n",
    "\n",
    "name_labels = labels.set_index('food_name').to_dict()['cat_info']\n",
    "name_label_0 = {k:[s.split('__')[-1] for s in v if len(s.split('__'))==3] for k,v in name_labels.items()}\n",
    "\n",
    "matched_label_l0 = []\n",
    "unmatched_label_l0 = []\n",
    "\n",
    "def token_transform(t):\n",
    "    tokens = [t, t+'s', t+'es']\n",
    "    if t[-1] == 'y':\n",
    "        tokens.append(t[:-1]+'ies')\n",
    "    return tokens  \n",
    "\n",
    "for l, s_lst in label_name_l0.items():    \n",
    "    l_primes = [token_transform(t) for t in l.split('_')]\n",
    "    l2 = list(itertools.product(*l_primes))\n",
    "    l_primes = [' '.join(i) for i in l2]  \n",
    " \n",
    "    matched = False\n",
    "    for s in s_lst:\n",
    "        s = ' '.join(s.replace(\"'\", '').replace('&', ' ').split())\n",
    "        for l_prime in l_primes:\n",
    "            if l_prime in s:            \n",
    "                matched = True\n",
    "            \n",
    "    if matched:\n",
    "        matched_label_l0.append(l)\n",
    "    else:\n",
    "        unmatched_label_l0.append(l)  \n",
    "\n",
    "perc = len(unmatched_label_l0)/(len(matched_label_l0 )+ len(unmatched_label_l0)) \n",
    "if perc < 0.05:\n",
    "    print('Less than 5% labels are not matched: {:.2%}'.format(perc))\n",
    "\n",
    "# get all labels associated with item\n",
    "def match_labels(s):\n",
    "    if s in name_label_0.keys():\n",
    "        found = name_label_0[s] \n",
    "    else:\n",
    "        found = []\n",
    "        s = ' '.join(s.replace(\"'\", '').replace('&', ' ').split())\n",
    "        for l in matched_label_l0:\n",
    "            matched = False\n",
    "            l_primes = [token_transform(t) for t in l.split('_')]\n",
    "            for l_prime in [' '.join(i) for i in list(itertools.product(*l_primes))]:\n",
    "                if l_prime in s:  \n",
    "                    matched = True\n",
    "            if matched:\n",
    "                found.append(l) \n",
    "                        \n",
    "    # full label names\n",
    "    all_labels = []\n",
    "    if len(found) > 0:\n",
    "        full_label_l0 = [index_label[label_index_l0[l0_label]] for l0_label in found]\n",
    "        for l0 in full_label_l0:\n",
    "            l2 = l0.split('__')[0]\n",
    "            l1 = '__'.join(l0.split('__')[:2])\n",
    "            all_labels.extend([l2, l1, l0])\n",
    "    return sorted(set(all_labels))\n",
    "\n",
    "# we will use the inverse dict later in label_score() instead of lst_ref\n",
    "# Two variants: 1) using all tags along the branch; 2) using only the last tag\n",
    "inv_label_index = {v: \" \".join(k.replace(\"__\", \" \").split(\"_\")) for k, v in label_index.items()} # use all tags along the branch\n",
    "# inv_label_index = {v: \" \".join(k.split(\"__\")[-1].split(\"_\")) for k, v in label_index.items()} # use only the last tag"
   ]
  },
  {
   "cell_type": "code",
   "execution_count": 61,
   "metadata": {},
   "outputs": [],
   "source": [
    "df.loc[:, 'label']  = df['item'].apply(match_labels)\n",
    "df['label_summary'] = df['label'].apply(lambda s: [label_index[i] for i in s] if len(s)>0 else [])\n",
    "\n",
    "df2.loc[:, 'label']  = df2['item_gt'].apply(match_labels)\n",
    "df2['label_summary'] = df2['label'].apply(lambda s: [label_index[i] for i in s] if len(s)>0 else [])\n",
    "df2 = df2[['user', 'item_1', 'label', 'label_summary']]\n",
    "\n",
    "gt_lst = df2.groupby('user')['label_summary'].apply(list).to_dict()\n",
    "df['l2'] = df['user'].map(gt_lst)\n",
    "\n",
    "df1 = df.groupby(['user', 'qn'])['label_summary'].apply(list).reset_index().rename(columns={'label_summary': 'l2'})\n",
    "df1 = df2.merge(df1, on='user', how='outer')"
   ]
  },
  {
   "cell_type": "code",
   "execution_count": 62,
   "metadata": {},
   "outputs": [],
   "source": [
    "labels = load_pickle(label_file_full)\n",
    "lst = sorted(set([item for sublist in labels['labels'].tolist() for item in sublist]))\n",
    "lst_ref = {v: k.split('__')[-1].replace('_', ' ') for v, k in enumerate(lst)}"
   ]
  },
  {
   "cell_type": "markdown",
   "metadata": {},
   "source": [
    "# BERT"
   ]
  },
  {
   "cell_type": "code",
   "execution_count": 63,
   "metadata": {},
   "outputs": [
    {
     "name": "stderr",
     "output_type": "stream",
     "text": [
      "Some weights of the model checkpoint at roberta-large were not used when initializing RobertaModel: ['lm_head.layer_norm.bias', 'lm_head.bias', 'lm_head.dense.weight', 'lm_head.layer_norm.weight', 'lm_head.decoder.weight', 'lm_head.dense.bias']\n",
      "- This IS expected if you are initializing RobertaModel from the checkpoint of a model trained on another task or with another architecture (e.g. initializing a BertForSequenceClassification model from a BertForPreTraining model).\n",
      "- This IS NOT expected if you are initializing RobertaModel from the checkpoint of a model that you expect to be exactly identical (initializing a BertForSequenceClassification model from a BertForSequenceClassification model).\n"
     ]
    },
    {
     "name": "stdout",
     "output_type": "stream",
     "text": [
      "14.808554649353027\n"
     ]
    }
   ],
   "source": [
    "import time\n",
    "start = time.time()\n",
    "scorer = BERTScorer(lang=\"en\", rescale_with_baseline=True)\n",
    "end = time.time()\n",
    "print(end - start)"
   ]
  },
  {
   "cell_type": "code",
   "execution_count": 64,
   "metadata": {},
   "outputs": [],
   "source": [
    "# def get_scores(single_cands, multi_refs):\n",
    "#     P_mul, R_mul, F_mul = scorer.score([single_cands], [multi_refs])\n",
    "#     return F_mul[0]\n",
    "\n",
    "# def sim_score(l0, l1, sim_dict=sim_dict):\n",
    "#     l0, l1 = tuple(sorted([l0, l1]))\n",
    "#     if (l0, l1) in sim_dict.keys():\n",
    "#         return sim_dict[(l0, l1)]\n",
    "#     else:\n",
    "#         if l0 == l1: \n",
    "#             val = 1\n",
    "#         else:\n",
    "#             val = get_scores(l0, l1)\n",
    "#         sim_dict[(l0, l1)] = val\n",
    "#         return float(val)\n",
    "    \n",
    "# def label_score(c_cap_j, c_cap_j_prime, weight, sim_dict=sim_dict):\n",
    "#     numerator = 0.0\n",
    "#     denominator = 0.0\n",
    "\n",
    "#     for c_t in c_cap_j:\n",
    "    \n",
    "#         lambda_t = weight[c_t]\n",
    "#         denominator += lambda_t\n",
    "\n",
    "#         max_val = -1\n",
    "#         for c_s in c_cap_j_prime:\n",
    "#             val = sim_score(lst_ref[c_t], lst_ref[c_s], sim_dict=sim_dict)\n",
    "#             if val > max_val:\n",
    "#                 max_val = val\n",
    "#         numerator += lambda_t * max_val\n",
    "        \n",
    "#     if numerator == 0.0:\n",
    "#         return -1\n",
    "        \n",
    "#     return numerator / denominator  \n",
    "\n",
    "def get_scores(single_cands, multi_refs):\n",
    "    P_mul, R_mul, F_mul = scorer.score([single_cands], [multi_refs])\n",
    "    return F_mul[0]\n",
    "\n",
    "def sim_score(l0, l1, sim_dict=sim_dict):\n",
    "    l0, l1 = tuple(sorted([l0, l1]))\n",
    "    \n",
    "    if (l0, l1) in sim_dict.keys():\n",
    "        return sim_dict[(l0, l1)]\n",
    "    else:\n",
    "        if l0 == l1: \n",
    "            val = 1\n",
    "        else:\n",
    "            val = get_scores(l0.lower(), l1.lower())\n",
    "        sim_dict[(l0, l1)] = val\n",
    "        return float(val)\n",
    "    \n",
    "def label_score(c_cap_j, c_cap_j_prime, weight, sim_dict=sim_dict):\n",
    "    if len(c_cap_j)==0 or len(c_cap_j_prime)==0:\n",
    "        return 0\n",
    "        #return np.nan\n",
    "    \n",
    "    numerator = 0.0\n",
    "    denominator = 0.0\n",
    "\n",
    "    for c_t in c_cap_j:\n",
    "        lambda_t = weight[c_t]\n",
    "        denominator += lambda_t\n",
    "        max_val = -1\n",
    "       \n",
    "        for c_s in c_cap_j_prime:\n",
    "            #val = sim_score(lst_ref[c_t], lst_ref[c_s], sim_dict=sim_dict)\n",
    "            val = sim_score(inv_label_index[c_t], inv_label_index[c_s], sim_dict=sim_dict)\n",
    "            if val > max_val:\n",
    "                max_val = val\n",
    "        \n",
    "        numerator += lambda_t * max_val\n",
    "    \n",
    "    return numerator / denominator\n",
    "\n",
    "def pair_sim_scores(j, j_prime, weight, sim_dict):\n",
    "    if(len(j)==0) or (len(j_prime)==0):\n",
    "        return 0\n",
    "    \n",
    "    if j_prime == j:\n",
    "        return 1\n",
    "    else:\n",
    "        curr_score = label_score(j, j_prime, weight, sim_dict=sim_dict)\n",
    "    return float(curr_score)"
   ]
  },
  {
   "cell_type": "markdown",
   "metadata": {},
   "source": [
    "# Debugging"
   ]
  },
  {
   "cell_type": "code",
   "execution_count": 65,
   "metadata": {},
   "outputs": [],
   "source": [
    "# Debugging\n",
    "\n",
    "weighing='equal'\n",
    "col = 'hSim-1'\n",
    "\n",
    "def lst_sim_scores(line, weight=weighing_scheme[weighing], sim_dict=sim_dict):\n",
    "    j = line['label_summary']\n",
    "    j_primes = line['l2']\n",
    "    pair_sim_score = 0\n",
    "    for j_prime in j_primes:\n",
    "        s = pair_sim_scores(j, j_prime, weight, sim_dict)\n",
    "        if s > pair_sim_score:\n",
    "            pair_sim_score = s\n",
    "    return pair_sim_score\n",
    "\n",
    "# df1[col] = df1.apply(lst_sim_scores, axis=1)\n",
    "# df1.sort_values(by=[\"user\", \"qn\", \"item_1\"])[0:15]"
   ]
  },
  {
   "cell_type": "code",
   "execution_count": 66,
   "metadata": {},
   "outputs": [
    {
     "name": "stdout",
     "output_type": "stream",
     "text": [
      "5.8023903369903564\n"
     ]
    }
   ],
   "source": [
    "weighing='equal'\n",
    "col = 'hSim-1'\n",
    "\n",
    "def lst_sim_scores(line, weight=weighing_scheme[weighing], sim_dict=sim_dict):\n",
    "    j = line['label_summary']\n",
    "    j_primes = line['l2']\n",
    "    pair_sim_score = 0\n",
    "    for j_prime in j_primes:\n",
    "        s = pair_sim_scores(j, j_prime, weight, sim_dict)\n",
    "        if s > pair_sim_score:\n",
    "            pair_sim_score = s\n",
    "    return pair_sim_score\n",
    "\n",
    "import time\n",
    "start = time.time()\n",
    "df[col] = df.apply(lst_sim_scores, axis=1)\n",
    "df1[col] = df1.apply(lst_sim_scores, axis=1)\n",
    "end = time.time()\n",
    "print(end - start)"
   ]
  },
  {
   "cell_type": "code",
   "execution_count": 67,
   "metadata": {},
   "outputs": [
    {
     "name": "stdout",
     "output_type": "stream",
     "text": [
      "6.216416835784912\n"
     ]
    }
   ],
   "source": [
    "weighing='124'\n",
    "col = 'hSim-2'\n",
    "\n",
    "def lst_sim_scores(line, weight=weighing_scheme[weighing], sim_dict=sim_dict):\n",
    "    j = line['label_summary']\n",
    "    j_primes = line['l2']\n",
    "    pair_sim_score = 0\n",
    "    for j_prime in j_primes:\n",
    "        s = pair_sim_scores(j, j_prime, weight, sim_dict)\n",
    "        if s > pair_sim_score:\n",
    "            pair_sim_score = s\n",
    "    return pair_sim_score\n",
    "\n",
    "import time\n",
    "start = time.time()\n",
    "df[col] = df.apply(lst_sim_scores, axis=1)\n",
    "df1[col] = df1.apply(lst_sim_scores, axis=1)\n",
    "end = time.time()\n",
    "print(end - start)"
   ]
  },
  {
   "cell_type": "code",
   "execution_count": 68,
   "metadata": {},
   "outputs": [
    {
     "name": "stdout",
     "output_type": "stream",
     "text": [
      "6.044835805892944\n"
     ]
    }
   ],
   "source": [
    "weighing='freq'\n",
    "col = 'hSim-freq'\n",
    "def lst_sim_scores(line, weight=weighing_scheme[weighing], sim_dict=sim_dict):\n",
    "    j = line['label_summary']\n",
    "    j_primes = line['l2']\n",
    "    pair_sim_score = 0\n",
    "    for j_prime in j_primes:\n",
    "        s = pair_sim_scores(j, j_prime, weight, sim_dict)\n",
    "        if s > pair_sim_score:\n",
    "            pair_sim_score = s\n",
    "    return pair_sim_score\n",
    "\n",
    "import time\n",
    "start = time.time()\n",
    "df[col] = df.apply(lst_sim_scores, axis=1)\n",
    "df1[col] = df1.apply(lst_sim_scores, axis=1)\n",
    "end = time.time()\n",
    "print(end - start)"
   ]
  },
  {
   "cell_type": "code",
   "execution_count": 69,
   "metadata": {},
   "outputs": [],
   "source": [
    "# precision\n",
    "cols = ['user', 'qn', 'choice', 'rating', 'hSim-1', 'hSim-2', 'hSim-freq']\n",
    "d = df[cols]\n",
    "d.columns = ['user', 'qn', 'rec_item', 'rating', 'hP-Sim-1', 'hP-Sim-2', 'hP-Sim-freq']\n",
    "d.to_csv(preference_rating_scores['hP-Sim'], index=False)"
   ]
  },
  {
   "cell_type": "code",
   "execution_count": 70,
   "metadata": {},
   "outputs": [],
   "source": [
    "# recall\n",
    "cols = ['user', 'qn', 'item_1', 'hSim-1', 'hSim-2', 'hSim-freq']\n",
    "d = df1[cols]\n",
    "d.columns = ['user', 'qn', 'gt_item', 'hR-Sim-1', 'hR-Sim-2', 'hR-Sim-freq']\n",
    "d.to_csv(preference_rating_scores['hR-Sim'], index=False)"
   ]
  },
  {
   "cell_type": "code",
   "execution_count": 71,
   "metadata": {},
   "outputs": [],
   "source": [
    "if len(sim_dict)>0:\n",
    "    save_pickle(BERT_F1_dict_file, sim_dict)"
   ]
  }
 ],
 "metadata": {
  "kernelspec": {
   "display_name": "Python 3 (ipykernel)",
   "language": "python",
   "name": "python3"
  },
  "language_info": {
   "codemirror_mode": {
    "name": "ipython",
    "version": 3
   },
   "file_extension": ".py",
   "mimetype": "text/x-python",
   "name": "python",
   "nbconvert_exporter": "python",
   "pygments_lexer": "ipython3",
   "version": "3.9.7"
  }
 },
 "nbformat": 4,
 "nbformat_minor": 2
}

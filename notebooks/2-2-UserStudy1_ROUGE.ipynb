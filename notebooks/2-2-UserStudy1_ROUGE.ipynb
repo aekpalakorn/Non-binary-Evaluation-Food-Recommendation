{
 "cells": [
  {
   "cell_type": "code",
   "execution_count": 1,
   "metadata": {},
   "outputs": [],
   "source": [
    "import re\n",
    "import pandas as pd\n",
    "\n",
    "from nltk.tokenize import RegexpTokenizer\n",
    "\n",
    "!pip install rouge\n",
    "from rouge import Rouge \n",
    "\n",
    "from src.config import mturk_simjudgement_file, mturk_substitution_rating_scores\n",
    "\n",
    "import warnings\n",
    "warnings.filterwarnings('ignore')"
   ]
  },
  {
   "cell_type": "code",
   "execution_count": 2,
   "metadata": {},
   "outputs": [],
   "source": [
    "tokenizer = RegexpTokenizer(r'\\w+')\n",
    "def clean_text(s):\n",
    "    try:\n",
    "        return ' '.join(tokenizer.tokenize(re.sub(r'[^a-zA-Z ]',r'', s).lower()))\n",
    "    except:\n",
    "        print(s)\n",
    "        return ''\n",
    "\n",
    "rouge = Rouge()\n",
    "\n",
    "def get_rouge_scores(single_cands, reference):\n",
    "    s = rouge.get_scores(clean_text(single_cands), clean_text(reference))[0]\n",
    "    lst = []\n",
    "    for m0 in ['rouge-1', 'rouge-2', 'rouge-l']:\n",
    "        for m in ['f', 'p', 'r']: \n",
    "            lst.append(s[m0][m])\n",
    "    return lst\n",
    "                \n",
    "def rouge_scores(line):\n",
    "    single_cands = line['rec_item']\n",
    "    multi_refs = line['gt_item']\n",
    "    return get_rouge_scores(single_cands, multi_refs)\n"
   ]
  },
  {
   "cell_type": "code",
   "execution_count": 3,
   "metadata": {},
   "outputs": [],
   "source": [
    "df = pd.read_csv(mturk_simjudgement_file)\n",
    "\n",
    "df['ROUGE-1_f'], df['ROUGE-1_p'], df['ROUGE-1_r'], df['ROUGE-2_f'], \\\n",
    " df['ROUGE-2_p'], df['ROUGE-2_r'], df['ROUGE-L_f'], df['ROUGE-L_p'], \\\n",
    " df['ROUGE-L_r'] = zip(*df.apply(rouge_scores, axis=1))\n",
    "\n",
    "cols = ['gt_item', 'rec_item', 'gt_item_id', 'rec_item_id', 'hint', 'SimJudgement', \n",
    "        'ROUGE-1_r','ROUGE-2_r', 'ROUGE-L_r']\n",
    "df = df[cols].rename(columns={c:c.replace('_r', '') for c in cols})\n",
    "\n",
    "df.to_csv(mturk_substitution_rating_scores['ROUGE'], index=True)"
   ]
  },
  {
   "cell_type": "code",
   "execution_count": 4,
   "metadata": {},
   "outputs": [
    {
     "data": {
      "text/html": [
       "<div>\n",
       "<style scoped>\n",
       "    .dataframe tbody tr th:only-of-type {\n",
       "        vertical-align: middle;\n",
       "    }\n",
       "\n",
       "    .dataframe tbody tr th {\n",
       "        vertical-align: top;\n",
       "    }\n",
       "\n",
       "    .dataframe thead th {\n",
       "        text-align: right;\n",
       "    }\n",
       "</style>\n",
       "<table border=\"1\" class=\"dataframe\">\n",
       "  <thead>\n",
       "    <tr style=\"text-align: right;\">\n",
       "      <th></th>\n",
       "      <th>ROUGE-1</th>\n",
       "      <th>ROUGE-2</th>\n",
       "      <th>ROUGE-L</th>\n",
       "    </tr>\n",
       "  </thead>\n",
       "  <tbody>\n",
       "    <tr>\n",
       "      <th>SimJudgement</th>\n",
       "      <td>0.406427</td>\n",
       "      <td>0.360909</td>\n",
       "      <td>0.40276</td>\n",
       "    </tr>\n",
       "  </tbody>\n",
       "</table>\n",
       "</div>"
      ],
      "text/plain": [
       "               ROUGE-1   ROUGE-2  ROUGE-L\n",
       "SimJudgement  0.406427  0.360909  0.40276"
      ]
     },
     "execution_count": 4,
     "metadata": {},
     "output_type": "execute_result"
    }
   ],
   "source": [
    "df.corr().iloc[3:4, 4:]"
   ]
  }
 ],
 "metadata": {
  "kernelspec": {
   "display_name": "Python 3 (ipykernel)",
   "language": "python",
   "name": "python3"
  },
  "language_info": {
   "codemirror_mode": {
    "name": "ipython",
    "version": 3
   },
   "file_extension": ".py",
   "mimetype": "text/x-python",
   "name": "python",
   "nbconvert_exporter": "python",
   "pygments_lexer": "ipython3",
   "version": "3.11.13"
  }
 },
 "nbformat": 4,
 "nbformat_minor": 4
}

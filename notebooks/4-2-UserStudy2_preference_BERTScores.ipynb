{
 "cells": [
  {
   "cell_type": "code",
   "execution_count": 1,
   "metadata": {},
   "outputs": [],
   "source": [
    "import pandas as pd\n",
    "from bert_score import BERTScorer\n",
    "\n",
    "from src.config import substitution_rating_file, preference_rating_file\n",
    "from src.config import preference_rating_scores\n",
    "\n",
    "import warnings\n",
    "warnings.filterwarnings('ignore')"
   ]
  },
  {
   "cell_type": "code",
   "execution_count": 2,
   "metadata": {},
   "outputs": [],
   "source": [
    "# predictions\n",
    "df = pd.read_csv(preference_rating_file)\n",
    "# ground truth\n",
    "df2 = pd.read_csv(substitution_rating_file)[['user', 'item_1']].drop_duplicates().reset_index(drop=True)\n",
    "df2 = df2[['user', 'item_1']]\n",
    "df2.columns = ['user', 'gt_item']\n",
    "\n",
    "gt = df2.groupby('user')['gt_item'].apply(list).to_dict()\n",
    "df['gt'] = df['user'].map(gt)"
   ]
  },
  {
   "cell_type": "code",
   "execution_count": 11,
   "metadata": {},
   "outputs": [
    {
     "name": "stderr",
     "output_type": "stream",
     "text": [
      "Some weights of the model checkpoint at roberta-large were not used when initializing RobertaModel: ['lm_head.layer_norm.bias', 'lm_head.layer_norm.weight', 'lm_head.dense.bias', 'lm_head.decoder.weight', 'lm_head.dense.weight', 'lm_head.bias']\n",
      "- This IS expected if you are initializing RobertaModel from the checkpoint of a model trained on another task or with another architecture (e.g. initializing a BertForSequenceClassification model from a BertForPreTraining model).\n",
      "- This IS NOT expected if you are initializing RobertaModel from the checkpoint of a model that you expect to be exactly identical (initializing a BertForSequenceClassification model from a BertForSequenceClassification model).\n"
     ]
    },
    {
     "name": "stdout",
     "output_type": "stream",
     "text": [
      "13.720400094985962\n"
     ]
    }
   ],
   "source": [
    "import time\n",
    "start = time.time()\n",
    "scorer = BERTScorer(lang=\"en\", rescale_with_baseline=True)\n",
    "end = time.time()\n",
    "print(end - start)"
   ]
  },
  {
   "cell_type": "code",
   "execution_count": 12,
   "metadata": {},
   "outputs": [],
   "source": [
    "def get_scores(single_cands, multi_refs):\n",
    "    P_mul, R_mul, F_mul = scorer.score([single_cands], [multi_refs])\n",
    "    return P_mul.item(), R_mul.item(), F_mul.item()\n",
    "\n",
    "def scores(line):\n",
    "    return get_scores(line['choice'].lower(), line['gt_item'].lower())"
   ]
  },
  {
   "cell_type": "code",
   "execution_count": 3,
   "metadata": {},
   "outputs": [],
   "source": [
    "d = pd.merge(df2[['user', 'gt_item']], df[['user', 'qn', 'choice',]], how='outer', on=['user'])"
   ]
  },
  {
   "cell_type": "code",
   "execution_count": 4,
   "metadata": {},
   "outputs": [
    {
     "data": {
      "text/html": [
       "<div>\n",
       "<style scoped>\n",
       "    .dataframe tbody tr th:only-of-type {\n",
       "        vertical-align: middle;\n",
       "    }\n",
       "\n",
       "    .dataframe tbody tr th {\n",
       "        vertical-align: top;\n",
       "    }\n",
       "\n",
       "    .dataframe thead th {\n",
       "        text-align: right;\n",
       "    }\n",
       "</style>\n",
       "<table border=\"1\" class=\"dataframe\">\n",
       "  <thead>\n",
       "    <tr style=\"text-align: right;\">\n",
       "      <th></th>\n",
       "      <th>user</th>\n",
       "      <th>gt_item</th>\n",
       "      <th>qn</th>\n",
       "      <th>choice</th>\n",
       "    </tr>\n",
       "  </thead>\n",
       "  <tbody>\n",
       "    <tr>\n",
       "      <th>0</th>\n",
       "      <td>1</td>\n",
       "      <td>Bottle Water - Water</td>\n",
       "      <td>1</td>\n",
       "      <td>Jasmine Rice - Rice</td>\n",
       "    </tr>\n",
       "    <tr>\n",
       "      <th>1</th>\n",
       "      <td>1</td>\n",
       "      <td>Bottle Water - Water</td>\n",
       "      <td>1</td>\n",
       "      <td>Avocado</td>\n",
       "    </tr>\n",
       "    <tr>\n",
       "      <th>2</th>\n",
       "      <td>1</td>\n",
       "      <td>Bottle Water - Water</td>\n",
       "      <td>1</td>\n",
       "      <td>Donut Shop - Donut</td>\n",
       "    </tr>\n",
       "    <tr>\n",
       "      <th>3</th>\n",
       "      <td>1</td>\n",
       "      <td>Bottle Water - Water</td>\n",
       "      <td>1</td>\n",
       "      <td>Sour patches - Sour patchss</td>\n",
       "    </tr>\n",
       "    <tr>\n",
       "      <th>4</th>\n",
       "      <td>1</td>\n",
       "      <td>Bottle Water - Water</td>\n",
       "      <td>1</td>\n",
       "      <td>Apple</td>\n",
       "    </tr>\n",
       "    <tr>\n",
       "      <th>...</th>\n",
       "      <td>...</td>\n",
       "      <td>...</td>\n",
       "      <td>...</td>\n",
       "      <td>...</td>\n",
       "    </tr>\n",
       "    <tr>\n",
       "      <th>17495</th>\n",
       "      <td>48</td>\n",
       "      <td>Snapple green tea - Green Tea</td>\n",
       "      <td>5</td>\n",
       "      <td>kellogs - nutrigrain blueberry breakfast bar</td>\n",
       "    </tr>\n",
       "    <tr>\n",
       "      <th>17496</th>\n",
       "      <td>48</td>\n",
       "      <td>Snapple green tea - Green Tea</td>\n",
       "      <td>5</td>\n",
       "      <td>eggland's best - cage free vegetarian fed hens...</td>\n",
       "    </tr>\n",
       "    <tr>\n",
       "      <th>17497</th>\n",
       "      <td>48</td>\n",
       "      <td>Snapple green tea - Green Tea</td>\n",
       "      <td>5</td>\n",
       "      <td>subway - 6 inch turkey breast and ham on wheat</td>\n",
       "    </tr>\n",
       "    <tr>\n",
       "      <th>17498</th>\n",
       "      <td>48</td>\n",
       "      <td>Snapple green tea - Green Tea</td>\n",
       "      <td>5</td>\n",
       "      <td>kellogg's pop tarts - hot fudge sundae</td>\n",
       "    </tr>\n",
       "    <tr>\n",
       "      <th>17499</th>\n",
       "      <td>48</td>\n",
       "      <td>Snapple green tea - Green Tea</td>\n",
       "      <td>5</td>\n",
       "      <td>pop chips - barbeque potato</td>\n",
       "    </tr>\n",
       "  </tbody>\n",
       "</table>\n",
       "<p>17500 rows × 4 columns</p>\n",
       "</div>"
      ],
      "text/plain": [
       "       user                        gt_item  qn  \\\n",
       "0         1           Bottle Water - Water   1   \n",
       "1         1           Bottle Water - Water   1   \n",
       "2         1           Bottle Water - Water   1   \n",
       "3         1           Bottle Water - Water   1   \n",
       "4         1           Bottle Water - Water   1   \n",
       "...     ...                            ...  ..   \n",
       "17495    48  Snapple green tea - Green Tea   5   \n",
       "17496    48  Snapple green tea - Green Tea   5   \n",
       "17497    48  Snapple green tea - Green Tea   5   \n",
       "17498    48  Snapple green tea - Green Tea   5   \n",
       "17499    48  Snapple green tea - Green Tea   5   \n",
       "\n",
       "                                                  choice  \n",
       "0                                    Jasmine Rice - Rice  \n",
       "1                                                Avocado  \n",
       "2                                     Donut Shop - Donut  \n",
       "3                            Sour patches - Sour patchss  \n",
       "4                                                  Apple  \n",
       "...                                                  ...  \n",
       "17495       kellogs - nutrigrain blueberry breakfast bar  \n",
       "17496  eggland's best - cage free vegetarian fed hens...  \n",
       "17497     subway - 6 inch turkey breast and ham on wheat  \n",
       "17498             kellogg's pop tarts - hot fudge sundae  \n",
       "17499                        pop chips - barbeque potato  \n",
       "\n",
       "[17500 rows x 4 columns]"
      ]
     },
     "execution_count": 4,
     "metadata": {},
     "output_type": "execute_result"
    }
   ],
   "source": [
    "d"
   ]
  },
  {
   "cell_type": "code",
   "execution_count": 15,
   "metadata": {},
   "outputs": [
    {
     "name": "stdout",
     "output_type": "stream",
     "text": [
      "1997.0440566539764\n"
     ]
    }
   ],
   "source": [
    "import time\n",
    "start = time.time()\n",
    "d['P'], d['R'], d['F1'] = zip(*d.apply(scores, axis=1))\n",
    "end = time.time()\n",
    "print(end - start)"
   ]
  },
  {
   "cell_type": "code",
   "execution_count": 16,
   "metadata": {},
   "outputs": [],
   "source": [
    "cols = ['user', 'qn', 'gt_item', 'choice', 'P', 'R', 'F1']\n",
    "d = d[cols]\n",
    "# d = d[cols].rename(columns={'R':'BERTScore', 'F1':'BERTScore-F1'})\n",
    "d.to_csv(preference_rating_scores['BERTScores'], index=False)"
   ]
  },
  {
   "cell_type": "code",
   "execution_count": 17,
   "metadata": {},
   "outputs": [
    {
     "data": {
      "text/html": [
       "<div>\n",
       "<style scoped>\n",
       "    .dataframe tbody tr th:only-of-type {\n",
       "        vertical-align: middle;\n",
       "    }\n",
       "\n",
       "    .dataframe tbody tr th {\n",
       "        vertical-align: top;\n",
       "    }\n",
       "\n",
       "    .dataframe thead th {\n",
       "        text-align: right;\n",
       "    }\n",
       "</style>\n",
       "<table border=\"1\" class=\"dataframe\">\n",
       "  <thead>\n",
       "    <tr style=\"text-align: right;\">\n",
       "      <th></th>\n",
       "      <th>user</th>\n",
       "      <th>qn</th>\n",
       "      <th>gt_item</th>\n",
       "      <th>choice</th>\n",
       "      <th>P</th>\n",
       "      <th>R</th>\n",
       "      <th>F1</th>\n",
       "    </tr>\n",
       "  </thead>\n",
       "  <tbody>\n",
       "    <tr>\n",
       "      <th>0</th>\n",
       "      <td>1</td>\n",
       "      <td>1</td>\n",
       "      <td>Bottle Water - Water</td>\n",
       "      <td>Jasmine Rice - Rice</td>\n",
       "      <td>0.288776</td>\n",
       "      <td>0.288825</td>\n",
       "      <td>0.289956</td>\n",
       "    </tr>\n",
       "    <tr>\n",
       "      <th>1</th>\n",
       "      <td>1</td>\n",
       "      <td>1</td>\n",
       "      <td>Bottle Water - Water</td>\n",
       "      <td>Avocado</td>\n",
       "      <td>0.107143</td>\n",
       "      <td>-0.078615</td>\n",
       "      <td>0.014121</td>\n",
       "    </tr>\n",
       "  </tbody>\n",
       "</table>\n",
       "</div>"
      ],
      "text/plain": [
       "   user  qn               gt_item               choice         P         R  \\\n",
       "0     1   1  Bottle Water - Water  Jasmine Rice - Rice  0.288776  0.288825   \n",
       "1     1   1  Bottle Water - Water              Avocado  0.107143 -0.078615   \n",
       "\n",
       "         F1  \n",
       "0  0.289956  \n",
       "1  0.014121  "
      ]
     },
     "execution_count": 17,
     "metadata": {},
     "output_type": "execute_result"
    }
   ],
   "source": [
    "d.head(2)"
   ]
  }
 ],
 "metadata": {
  "kernelspec": {
   "display_name": "Python 3 (ipykernel)",
   "language": "python",
   "name": "python3"
  },
  "language_info": {
   "codemirror_mode": {
    "name": "ipython",
    "version": 3
   },
   "file_extension": ".py",
   "mimetype": "text/x-python",
   "name": "python",
   "nbconvert_exporter": "python",
   "pygments_lexer": "ipython3",
   "version": "3.9.7"
  }
 },
 "nbformat": 4,
 "nbformat_minor": 2
}

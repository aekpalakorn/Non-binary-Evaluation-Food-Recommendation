{
 "cells": [
  {
   "cell_type": "code",
   "execution_count": 1,
   "metadata": {},
   "outputs": [],
   "source": [
    "import re\n",
    "import pandas as pd\n",
    "\n",
    "from nltk.tokenize import word_tokenize, RegexpTokenizer\n",
    "from nltk.translate.bleu_score import sentence_bleu\n",
    "\n",
    "from src.config import mturk_simjudgement_file, mturk_substitution_rating_scores\n",
    "\n",
    "import warnings\n",
    "warnings.filterwarnings('ignore')"
   ]
  },
  {
   "cell_type": "code",
   "execution_count": 2,
   "metadata": {},
   "outputs": [],
   "source": [
    "tokenizer = RegexpTokenizer(r'\\w+')\n",
    "def clean_text(s):\n",
    "    try:\n",
    "        return ' '.join(tokenizer.tokenize(re.sub(r'[^a-zA-Z ]',r'', s).lower()))\n",
    "    except:\n",
    "        print(s)\n",
    "        return ''\n",
    "\n",
    "\n",
    "def get_weighted_scores(single_cands, single_refs, weights=(0.25, 0.25, 0.25, 0.25)): \n",
    "    hypothesis = word_tokenize(clean_text(single_cands))\n",
    "    reference = word_tokenize(clean_text(single_refs))\n",
    "    return sentence_bleu([reference], hypothesis, weights=weights)"
   ]
  },
  {
   "cell_type": "code",
   "execution_count": 3,
   "metadata": {},
   "outputs": [],
   "source": [
    "df = pd.read_csv(mturk_simjudgement_file)\n",
    "\n",
    "weight_scheme = {'BLEU-1':(1,0,0,0), 'BLEU-2':(0.5, 0.5, 0, 0)}\n",
    "for m, w in weight_scheme.items():\n",
    "    def weighted_scores(line):\n",
    "        single_cands = line['rec_item']\n",
    "        single_ref = line['gt_item']\n",
    "        return get_weighted_scores(single_cands, single_ref, weights=w)\n",
    "\n",
    "    df[m]= df.apply(weighted_scores, axis=1)\n",
    "\n",
    "filename = mturk_substitution_rating_scores['BLEU']\n",
    "df.to_csv(filename, index=True)"
   ]
  },
  {
   "cell_type": "code",
   "execution_count": 4,
   "metadata": {},
   "outputs": [
    {
     "data": {
      "text/html": [
       "<div>\n",
       "<style scoped>\n",
       "    .dataframe tbody tr th:only-of-type {\n",
       "        vertical-align: middle;\n",
       "    }\n",
       "\n",
       "    .dataframe tbody tr th {\n",
       "        vertical-align: top;\n",
       "    }\n",
       "\n",
       "    .dataframe thead th {\n",
       "        text-align: right;\n",
       "    }\n",
       "</style>\n",
       "<table border=\"1\" class=\"dataframe\">\n",
       "  <thead>\n",
       "    <tr style=\"text-align: right;\">\n",
       "      <th></th>\n",
       "      <th>BLEU-1</th>\n",
       "      <th>BLEU-2</th>\n",
       "    </tr>\n",
       "  </thead>\n",
       "  <tbody>\n",
       "    <tr>\n",
       "      <th>SimJudgement</th>\n",
       "      <td>0.42495</td>\n",
       "      <td>0.369848</td>\n",
       "    </tr>\n",
       "  </tbody>\n",
       "</table>\n",
       "</div>"
      ],
      "text/plain": [
       "               BLEU-1    BLEU-2\n",
       "SimJudgement  0.42495  0.369848"
      ]
     },
     "execution_count": 4,
     "metadata": {},
     "output_type": "execute_result"
    }
   ],
   "source": [
    "df.corr().iloc[3:4, 4:]"
   ]
  }
 ],
 "metadata": {
  "kernelspec": {
   "display_name": "Python 3 (ipykernel)",
   "language": "python",
   "name": "python3"
  },
  "language_info": {
   "codemirror_mode": {
    "name": "ipython",
    "version": 3
   },
   "file_extension": ".py",
   "mimetype": "text/x-python",
   "name": "python",
   "nbconvert_exporter": "python",
   "pygments_lexer": "ipython3",
   "version": "3.11.13"
  }
 },
 "nbformat": 4,
 "nbformat_minor": 4
}

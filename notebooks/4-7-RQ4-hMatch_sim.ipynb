{
 "cells": [
  {
   "cell_type": "markdown",
   "id": "cba1d769",
   "metadata": {},
   "source": [
    "The code in this notebook is based off the two notebooks: \n",
    "* 4-7-RQ4-BERTScores\n",
    "* 4-4-UserStudy2_preference_hierarchical_sim"
   ]
  },
  {
   "cell_type": "markdown",
   "id": "b281a00b",
   "metadata": {},
   "source": [
    "# Loading data and necessary files"
   ]
  },
  {
   "cell_type": "code",
   "execution_count": null,
   "id": "3476e86e",
   "metadata": {},
   "outputs": [],
   "source": [
    "from bert_score import BERTScorer\n",
    "from collections import defaultdict\n",
    "import itertools\n",
    "import numpy as np\n",
    "import os\n",
    "import pandas as pd\n",
    "import re\n",
    "from src.config import DATA_DIR, TEMP_DIR\n",
    "from src.config import label_file, label_file_full, weighing_scheme\n",
    "from src.config import BERT_F1_dict_file\n",
    "from src.io import load_pickle, save_pickle\n",
    "import time\n",
    "\n",
    "# Global variables:\n",
    "# name_df, gt_df, rec_df\n",
    "# models\n",
    "\n",
    "name_df = pd.read_csv(os.path.join(TEMP_DIR, 'UserStudy1', 'full_name_ref.csv'))\n",
    "gt_df = pd.read_csv(os.path.join(TEMP_DIR, 'UserStudy1', 'user_ground_truth.csv')).drop_duplicates().reset_index(drop=True)\n",
    "rec_df = pd.read_csv(os.path.join(TEMP_DIR, 'UserStudy1', 'user_recommendations.csv'))\n",
    "rec_df = rec_df.rename(columns={\"item_idx\": \"PID\"})\n",
    "\n",
    "gt_df = gt_df.sort_values(by=['UID', 'PID'])\n",
    "rec_df = rec_df.sort_values(by=['UID', 'PID'])\n",
    "\n",
    "gt_df = pd.merge(gt_df, name_df, how='left', on=['PID'])\n",
    "gt_df = gt_df.rename(columns={\"name\": \"gt_item\"})\n",
    "rec_df = pd.merge(rec_df, name_df, how='left', on=['PID'])\n",
    "rec_df = rec_df.rename(columns={\"name\": \"rec_item\"})\n",
    "\n",
    "models = sorted(set(rec_df['models'].values))"
   ]
  },
  {
   "cell_type": "code",
   "execution_count": null,
   "id": "8838862d",
   "metadata": {},
   "outputs": [],
   "source": [
    "# Global variables:\n",
    "# sim_dict\n",
    "# scorer\n",
    "\n",
    "if os.path.exists(BERT_F1_dict_file):\n",
    "    sim_dict = load_pickle(BERT_F1_dict_file)\n",
    "else:\n",
    "    sim_dict = {}\n",
    "\n",
    "loaded_sim_dict_len = len(sim_dict)\n",
    "print('Loaded pre-computed BERTScores for tags, %s total records' % loaded_sim_dict_len)\n",
    "\n",
    "import time\n",
    "start = time.time()\n",
    "scorer = BERTScorer(lang=\"en\", rescale_with_baseline=True, device=\"cuda\")\n",
    "end = time.time()\n",
    "print(end - start)"
   ]
  },
  {
   "cell_type": "code",
   "execution_count": null,
   "id": "64ee056a",
   "metadata": {},
   "outputs": [],
   "source": [
    "print(models)"
   ]
  },
  {
   "cell_type": "code",
   "execution_count": null,
   "id": "ae5f33bf",
   "metadata": {},
   "outputs": [],
   "source": [
    "print(name_df.columns)\n",
    "print(gt_df.columns)\n",
    "print(rec_df.columns)"
   ]
  },
  {
   "cell_type": "code",
   "execution_count": null,
   "id": "43f6fce9",
   "metadata": {},
   "outputs": [],
   "source": [
    "name_df.nunique()"
   ]
  },
  {
   "cell_type": "code",
   "execution_count": null,
   "id": "7da8742c",
   "metadata": {},
   "outputs": [],
   "source": [
    "gt_df.nunique()"
   ]
  },
  {
   "cell_type": "code",
   "execution_count": null,
   "id": "cdd66569",
   "metadata": {},
   "outputs": [],
   "source": [
    "rec_df.nunique()"
   ]
  },
  {
   "cell_type": "markdown",
   "id": "1ccc7995",
   "metadata": {},
   "source": [
    "# Data Cleaning\n",
    "Some models, i.e., adaloyal, fpmc, and personal, predicted more than 1 item for certain ranks for certain users (N=19526). In that case, we will randomly select one item to represet each nth-rank item."
   ]
  },
  {
   "cell_type": "code",
   "execution_count": null,
   "id": "f0ee787f",
   "metadata": {},
   "outputs": [],
   "source": [
    "print(rec_df.shape)\n",
    "count_df = rec_df.groupby(['UID','models','pred_rank']).count().sort_values(by=['rec_item'], ascending=False)\n",
    "count_df = count_df.reset_index()\n",
    "count_df[count_df['PID']>1]"
   ]
  },
  {
   "cell_type": "code",
   "execution_count": null,
   "id": "a4ca5f04",
   "metadata": {},
   "outputs": [],
   "source": [
    "start = time.time()\n",
    "rec_df = rec_df.groupby(['UID', 'models', 'pred_rank']).sample()\n",
    "end = time.time()\n",
    "print(rec_df.shape)\n",
    "print('%.2f sec' % (end-start))"
   ]
  },
  {
   "cell_type": "code",
   "execution_count": null,
   "id": "07f4e994",
   "metadata": {},
   "outputs": [],
   "source": [
    "rand_state = 100 # random state. 100 in the main experiment.\n",
    "rand_df = rec_df[rec_df['models']=='global'] # use global as a template. But any model will do.\n",
    "rand_df['models'] = 'random'\n",
    "rand_df['rand_item'] = list(name_df['name'].sample(n = rand_df.shape[0], replace=True, random_state = rand_state)) # sample from all possible food items stored in name_df\n",
    "rand_df = rand_df.drop('rec_item', axis=1)\n",
    "rand_df = rand_df.rename(columns={'rand_item': 'rec_item'})\n",
    "rec_df = pd.concat([rec_df, rand_df], ignore_index = True)"
   ]
  },
  {
   "cell_type": "code",
   "execution_count": null,
   "id": "43dfee0e",
   "metadata": {},
   "outputs": [],
   "source": [
    "def process_food_name(s1):\n",
    "    # separators: \", \" + any of (integer, decimal & fraction) +\" \"\n",
    "    exp = r\", \\d+\\.\\d+ |, \\d+\\,\\d+ |, \\d+ |, \\d+\\/\\d+ \"\n",
    "    # remove content in parenthesis for finding the separator\n",
    "    if s1.count('(') == s1.count(')'):\n",
    "        s2 = re.sub(r'[(].*?[\\)]', ' ', s1)\n",
    "    else:\n",
    "        s2 = s1\n",
    "    try:\n",
    "        split_by = re.findall(exp, s2)[0]\n",
    "        return clean_name(s1.split(split_by)[0])\n",
    "    except:\n",
    "        return clean_name(s2)\n",
    "\n",
    "def clean_name(name):\n",
    "    name = name.replace(\"\\t\", \" \").replace(\"\\n\", \" \").replace(\"w/o\", \" no \").replace(\"w/\", \" \")\n",
    "    return re.sub(' +', ' ', name.strip()).lower()"
   ]
  },
  {
   "cell_type": "markdown",
   "id": "a5b177ce",
   "metadata": {},
   "source": [
    "Process all food names by removing puctuations and numerals\n",
    "\n",
    "Mapping between variable names (this notebook's, the reference notebook's):\n",
    "\n",
    "For (gt_df, df2):\n",
    "* (UID, user)\n",
    "* (gt_item, item_1)\n",
    "* (gt_item_cleaned, item_gt)\n",
    "\n",
    "For (rec_df, df):\n",
    "* (UID, user)\n",
    "* (rec_item, choice)\n",
    "* (rec_item_cleaned, item)\n",
    "* (models, qn)"
   ]
  },
  {
   "cell_type": "code",
   "execution_count": null,
   "id": "a32a345c",
   "metadata": {},
   "outputs": [],
   "source": [
    "rec_df['rec_item_cleaned'] = rec_df['rec_item'].apply(process_food_name)\n",
    "rec_df = rec_df.rename(columns={'UID': 'user', 'rec_item': 'choice', 'rec_item_cleaned': 'item', 'models': 'qn'})\n",
    "gt_df['gt_item_cleaned'] = gt_df['gt_item'].apply(process_food_name)\n",
    "gt_df = gt_df.rename(columns={'UID': 'user', 'gt_item': 'item_1', 'gt_item_cleaned': 'item_gt'})"
   ]
  },
  {
   "cell_type": "code",
   "execution_count": null,
   "id": "bff72850",
   "metadata": {},
   "outputs": [],
   "source": [
    "labels = load_pickle(label_file)\n",
    "concat_list = list(zip(labels['cat_info'], labels['label_summary']))\n",
    "label_index = dict()\n",
    "for i,j in concat_list:\n",
    "    label_index.update(zip(i,j))  \n",
    "\n",
    "index_label = {k:v for v,k in label_index.items()}\n",
    "\n",
    "# '_' connected tokens for l0 tags\n",
    "label_index_l0 = {i.split('__')[-1]:v for i,v in label_index.items() if len(i.split('__'))==3}\n",
    "l0_tags = sorted(label_index_l0.keys())\n",
    "\n",
    "label_with_food = defaultdict(list)\n",
    "def group_food_name(line):\n",
    "    s = line['food_name']\n",
    "    for i in line['label_summary']:\n",
    "        label_with_food[i].append(s)\n",
    "labels.apply(group_food_name, axis=1) \n",
    "\n",
    "label_name_l0 = {}\n",
    "for l,i in label_index_l0.items():\n",
    "    label_name_l0[l] = label_with_food[i]\n",
    "\n",
    "name_labels = labels.set_index('food_name').to_dict()['cat_info']\n",
    "name_label_0 = {k:[s.split('__')[-1] for s in v if len(s.split('__'))==3] for k,v in name_labels.items()}\n",
    "\n",
    "matched_label_l0 = []\n",
    "unmatched_label_l0 = []\n",
    "\n",
    "def token_transform(t):\n",
    "    tokens = [t, t+'s', t+'es']\n",
    "    if t[-1] == 'y':\n",
    "        tokens.append(t[:-1]+'ies')\n",
    "    return tokens  \n",
    "\n",
    "for l, s_lst in label_name_l0.items():    \n",
    "    l_primes = [token_transform(t) for t in l.split('_')]\n",
    "    l2 = list(itertools.product(*l_primes))\n",
    "    l_primes = [' '.join(i) for i in l2]  \n",
    " \n",
    "    matched = False\n",
    "    for s in s_lst:\n",
    "        s = ' '.join(s.replace(\"'\", '').replace('&', ' ').split())\n",
    "        for l_prime in l_primes:\n",
    "            if l_prime in s:            \n",
    "                matched = True\n",
    "            \n",
    "    if matched:\n",
    "        matched_label_l0.append(l)\n",
    "    else:\n",
    "        unmatched_label_l0.append(l)  \n",
    "\n",
    "perc = len(unmatched_label_l0)/(len(matched_label_l0 )+ len(unmatched_label_l0)) \n",
    "if perc < 0.05:\n",
    "    print('Less than 5% labels are not matched: {:.2%}'.format(perc))\n",
    "\n",
    "# get all labels associated with item\n",
    "def match_labels(s):\n",
    "    if s in name_label_0.keys():\n",
    "        found = name_label_0[s] \n",
    "    else:\n",
    "        found = []\n",
    "        s = ' '.join(s.replace(\"'\", '').replace('&', ' ').split())\n",
    "        for l in matched_label_l0:\n",
    "            matched = False\n",
    "            l_primes = [token_transform(t) for t in l.split('_')]\n",
    "            for l_prime in [' '.join(i) for i in list(itertools.product(*l_primes))]:\n",
    "                if l_prime in s:  \n",
    "                    matched = True\n",
    "            if matched:\n",
    "                found.append(l) \n",
    "                        \n",
    "    # full label names\n",
    "    all_labels = []\n",
    "    if len(found) > 0:\n",
    "        full_label_l0 = [index_label[label_index_l0[l0_label]] for l0_label in found]\n",
    "        for l0 in full_label_l0:\n",
    "            l2 = l0.split('__')[0]\n",
    "            l1 = '__'.join(l0.split('__')[:2])\n",
    "            all_labels.extend([l2, l1, l0])\n",
    "    return sorted(set(all_labels))\n",
    "\n",
    "# Two variants: 1) using all tags along the branch; 2) using only the last tag\n",
    "inv_label_index = {v: \" \".join(k.replace(\"__\", \" \").split(\"_\")) for k, v in label_index.items()} # use all tags along the branch\n",
    "# inv_label_index = {v: \" \".join(k.split(\"__\")[-1].split(\"_\")) for k, v in label_index.items()} # use only the last tag"
   ]
  },
  {
   "cell_type": "code",
   "execution_count": null,
   "id": "7a26a190",
   "metadata": {},
   "outputs": [],
   "source": [
    "rec_df.loc[:, 'label']  = rec_df['item'].apply(match_labels)\n",
    "rec_df['label_summary'] = rec_df['label'].apply(lambda s: [label_index[i] for i in s] if len(s)>0 else [])\n",
    "\n",
    "gt_df.loc[:, 'label']  = gt_df['item_gt'].apply(match_labels)\n",
    "gt_df['label_summary'] = gt_df['label'].apply(lambda s: [label_index[i] for i in s] if len(s)>0 else [])\n",
    "gt_df = gt_df[['user', 'item_1', 'label', 'label_summary']]\n",
    "\n",
    "gt_lst = gt_df.groupby('user')['label_summary'].apply(list).to_dict()\n",
    "rec_df['l2'] = rec_df['user'].map(gt_lst)\n",
    "\n",
    "df1 = rec_df.groupby(['user', 'qn'])['label_summary'].apply(list).reset_index().rename(columns={'label_summary': 'l2'})\n",
    "df1 = gt_df.merge(df1, on='user', how='outer')"
   ]
  },
  {
   "cell_type": "markdown",
   "id": "43d54798",
   "metadata": {},
   "source": [
    "# Scoring functions"
   ]
  },
  {
   "cell_type": "code",
   "execution_count": null,
   "id": "3473cfbd",
   "metadata": {},
   "outputs": [],
   "source": [
    "def get_scores(single_cands, multi_refs):\n",
    "    P_mul, R_mul, F_mul = scorer.score([single_cands], [multi_refs])\n",
    "    return F_mul[0]\n",
    "\n",
    "def sim_score(l0, l1, sim_dict=sim_dict):\n",
    "    l0, l1 = tuple(sorted([l0, l1]))\n",
    "    \n",
    "    if (l0, l1) in sim_dict.keys():\n",
    "        return sim_dict[(l0, l1)]\n",
    "    else:\n",
    "        if l0 == l1: \n",
    "            val = 1\n",
    "        else:\n",
    "            val = get_scores(l0.lower(), l1.lower())\n",
    "        sim_dict[(l0, l1)] = val\n",
    "        return float(val)\n",
    "    \n",
    "def label_score(c_cap_j, c_cap_j_prime, weight, sim_dict=sim_dict):\n",
    "    if len(c_cap_j)==0 or len(c_cap_j_prime)==0:\n",
    "        return 0\n",
    "        #return np.nan\n",
    "    \n",
    "    numerator = 0.0\n",
    "    denominator = 0.0\n",
    "\n",
    "    for c_t in c_cap_j:\n",
    "        lambda_t = weight[c_t]\n",
    "        denominator += lambda_t\n",
    "        max_val = -1\n",
    "       \n",
    "        for c_s in c_cap_j_prime:\n",
    "            val = sim_score(inv_label_index[c_t], inv_label_index[c_s], sim_dict)\n",
    "            if val > max_val:\n",
    "                max_val = val\n",
    "        \n",
    "        numerator += lambda_t * max_val\n",
    "    \n",
    "    return numerator / denominator\n",
    "\n",
    "def pair_sim_scores(j, j_prime, weight, sim_dict):\n",
    "    if(len(j)==0) or (len(j_prime)==0):\n",
    "        return 0\n",
    "    \n",
    "    if j_prime == j:\n",
    "        return 1\n",
    "    else:\n",
    "        curr_score = label_score(j, j_prime, weight, sim_dict)\n",
    "    return float(curr_score)"
   ]
  },
  {
   "cell_type": "code",
   "execution_count": null,
   "id": "97bce04a",
   "metadata": {},
   "outputs": [],
   "source": [
    "x = 'Egg Salad Sandwich'\n",
    "y = 'dreyers grand ice cream - chocolate ice cream'\n",
    "x = 'Home Made - Garden Salad'\n",
    "y = 'chips - chips'\n",
    "y = 'coke - coke (330ml)'\n",
    "c_cap_j = match_labels(x)\n",
    "c_cap_j_prime = match_labels(y)\n",
    "# print(c_cap_j)\n",
    "# print(c_cap_j_prime)\n",
    "score = None\n",
    "\n",
    "if len(c_cap_j)==0 or len(c_cap_j_prime)==0:\n",
    "    score = 0\n",
    "\n",
    "# print(score)\n",
    "# print(labels[labels['food_name']==x.lower()]['label_summary'])\n",
    "# print(labels[labels['food_name']==y.lower()]['label_summary'])\n",
    "print(name_label_0[y.lower()])"
   ]
  },
  {
   "cell_type": "markdown",
   "id": "df5e411c",
   "metadata": {},
   "source": [
    "# Benchmarking\n",
    "\n",
    "To compute hMatch_sim from scratch, it takes about (without GPU):\n",
    "* To be completed\n",
    "\n",
    "With GPU:\n",
    "* 1 min for about 32 rows (10 users)\n",
    "* 2 min for 800 rows\n",
    "* 30 min for 28,909 rows or one model (6915 users)"
   ]
  },
  {
   "cell_type": "raw",
   "id": "09c3898a",
   "metadata": {},
   "source": [
    "pd.set_option('mode.chained_assignment', None) # suppress the chained_assignment warning\n",
    "weighing='freq'\n",
    "col = 'hSim-freq'\n",
    "\n",
    "def lst_sim_scores(line, weight=weighing_scheme[weighing], sim_dict=sim_dict):\n",
    "    j = line['label_summary']\n",
    "    j_primes = line['l2']\n",
    "    pair_sim_score = 0\n",
    "    for j_prime in j_primes:\n",
    "        s = pair_sim_scores(j, j_prime, weight, sim_dict)\n",
    "        if s > pair_sim_score:\n",
    "            pair_sim_score = s\n",
    "    return pair_sim_score\n",
    "\n",
    "start = time.time()\n",
    "temp_df = df1[(df1['user']<10) & (df1['qn']=='adaloyal')]\n",
    "temp_df[col] = temp_df.apply(lst_sim_scores, axis=1)\n",
    "end = time.time()\n",
    "print('%.4f sec' % (end-start))"
   ]
  },
  {
   "cell_type": "markdown",
   "id": "637d13ec",
   "metadata": {},
   "source": [
    "# Main\n",
    "\n",
    "Compute hMatch_sim for each model. Data will be split into batches so that results can be saved to CSV periodically."
   ]
  },
  {
   "cell_type": "code",
   "execution_count": null,
   "id": "76a12ab9",
   "metadata": {},
   "outputs": [],
   "source": [
    "start = time.time()\n",
    "# 'adaloyal', 'bpr', 'fpmc', 'global', 'lda', 'mixture', 'mixture_decay', 'nmf', 'personal', 'sasrec', 'wrmf', 'random'\n",
    "m = 'random'\n",
    "start_uid = 0\n",
    "batch_size = 200\n",
    "max_uid = 7000\n",
    "weighing='freq'\n",
    "col = 'hSim-freq'\n",
    "\n",
    "def lst_sim_scores(line, weight=weighing_scheme[weighing], sim_dict=sim_dict):\n",
    "    j = line['label_summary']\n",
    "    j_primes = line['l2']\n",
    "    pair_sim_score = 0\n",
    "    for j_prime in j_primes:\n",
    "        s = pair_sim_scores(j, j_prime, weight, sim_dict)\n",
    "        if s > pair_sim_score:\n",
    "            pair_sim_score = s\n",
    "    return pair_sim_score\n",
    "\n",
    "# We select each batch based on UID and models. batch_size=200 normally results in ~9000 rows of data for computing per batch.\n",
    "while start_uid < max_uid:\n",
    "    istart = time.time()\n",
    "    end_uid = start_uid + batch_size  \n",
    "    \n",
    "    eval_df = df1[(df1['user']>=start_uid) & (df1['user']<end_uid) & (df1['qn']==m)] # Selecting subset of data\n",
    "    # Calculating BERTScores, will take quite some time if on a non-CUDA machine\n",
    "    eval_df[col] = eval_df.apply(lst_sim_scores, axis=1)\n",
    "    \n",
    "    iend = time.time()\n",
    "    eval_df.to_csv('data/temp/hmatch_sim/%s_uid_%s.csv' % (m, start_uid), index=False)\n",
    "    print('total rows=%s\\tstart_uid=%s\\tend_uid=%s\\telapsed_time=%.2f min' % (len(eval_df), start_uid, end_uid, (iend - istart)/60))\n",
    "    start_uid += batch_size\n",
    "    time.sleep(1)\n",
    "\n",
    "end = time.time()\n",
    "print('total_time=%.2f min' % ((end - start)/60))"
   ]
  },
  {
   "cell_type": "markdown",
   "id": "9d97abd9",
   "metadata": {},
   "source": [
    "Join all results into one file"
   ]
  },
  {
   "cell_type": "code",
   "execution_count": null,
   "id": "c3d462e5",
   "metadata": {},
   "outputs": [],
   "source": [
    "# concatenating multiple results into one\n",
    "m = 'random'\n",
    "start_uid = 0\n",
    "batch_size = 200\n",
    "max_uid = 7000\n",
    "\n",
    "big_df = pd.DataFrame()\n",
    "\n",
    "while start_uid < max_uid:\n",
    "    try:\n",
    "        df = pd.read_csv('data/temp/hmatch_sim/%s_uid_%s.csv' % (m, start_uid))\n",
    "    except FileNotFoundError:\n",
    "        print('data/temp/hmatch_sim/%s_uid_%s.csv does not exist.' % (m, start_uid))\n",
    "    \n",
    "    big_df = pd.concat([big_df, df], ignore_index=True)\n",
    "    start_uid += batch_size\n",
    "\n",
    "big_df.to_csv('data/temp/hmatch_sim/%s.csv' % (m), index=False)"
   ]
  },
  {
   "cell_type": "markdown",
   "id": "24e51403",
   "metadata": {},
   "source": [
    "Computing aggregated top-k scores for each user and final scores for the model"
   ]
  },
  {
   "cell_type": "code",
   "execution_count": null,
   "id": "119f3cd1",
   "metadata": {},
   "outputs": [],
   "source": [
    "start = time.time()\n",
    "user_mean_df = big_df.reset_index().groupby(['user'])[['hSim-freq']].mean()\n",
    "end = time.time()\n",
    "print('%.2f sec' % (end-start))\n",
    "print(m)\n",
    "print(user_mean_df.mean())"
   ]
  },
  {
   "cell_type": "markdown",
   "id": "b07c1aa2",
   "metadata": {},
   "source": [
    "Persisting computed scores to a pickle file"
   ]
  },
  {
   "cell_type": "code",
   "execution_count": null,
   "id": "0717337b",
   "metadata": {},
   "outputs": [],
   "source": [
    "print(len(sim_dict))\n",
    "# for k, v in sim_dict.items():\n",
    "#     print('%s\\t%s\\t%.2f\\t%.2f\\t%.2f' % (k[0], k[1], v['P'], v['R'], v['F']))"
   ]
  },
  {
   "cell_type": "code",
   "execution_count": null,
   "id": "8c0d5377",
   "metadata": {},
   "outputs": [],
   "source": [
    "if len(sim_dict)>=loaded_sim_dict_len:\n",
    "    save_pickle(BERT_F1_dict_file, sim_dict)\n",
    "    print('Saved pre-computed scores, %s total records' % len(sim_dict))"
   ]
  }
 ],
 "metadata": {
  "kernelspec": {
   "display_name": "Python 3 (ipykernel)",
   "language": "python",
   "name": "python3"
  },
  "language_info": {
   "codemirror_mode": {
    "name": "ipython",
    "version": 3
   },
   "file_extension": ".py",
   "mimetype": "text/x-python",
   "name": "python",
   "nbconvert_exporter": "python",
   "pygments_lexer": "ipython3",
   "version": "3.11.13"
  }
 },
 "nbformat": 4,
 "nbformat_minor": 5
}

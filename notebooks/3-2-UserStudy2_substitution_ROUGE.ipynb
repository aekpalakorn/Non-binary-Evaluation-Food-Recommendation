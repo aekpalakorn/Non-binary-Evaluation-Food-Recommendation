{
 "cells": [
  {
   "cell_type": "code",
   "execution_count": 1,
   "metadata": {},
   "outputs": [],
   "source": [
    "import re\n",
    "import pandas as pd\n",
    "\n",
    "from scipy.stats import zscore\n",
    "from nltk.tokenize import RegexpTokenizer\n",
    "from rouge import Rouge \n",
    "\n",
    "from src.config import substitution_rating_file, substitution_rating_scores"
   ]
  },
  {
   "cell_type": "code",
   "execution_count": 2,
   "metadata": {},
   "outputs": [],
   "source": [
    "rouge = Rouge()\n",
    "tokenizer = RegexpTokenizer(r'\\w+')\n",
    "\n",
    "def clean_text(s):\n",
    "    try:\n",
    "        return ' '.join(tokenizer.tokenize(re.sub(r'[^a-zA-Z ]',r'', s).lower()))\n",
    "    except:\n",
    "        print(s)\n",
    "        return ''\n",
    "\n",
    "def get_rouge_scores(single_cands, reference):\n",
    "    s = rouge.get_scores(clean_text(single_cands), clean_text(reference))[0]\n",
    "    lst = []\n",
    "    for m0 in ['rouge-1', 'rouge-2', 'rouge-l']:\n",
    "        for m in ['f', 'p', 'r']: \n",
    "            lst.append(s[m0][m])\n",
    "    return lst\n",
    "                \n",
    "def rouge_scores(line):\n",
    "    single_cands = line['item_1']\n",
    "    multi_refs = line['item_2']\n",
    "    return get_rouge_scores(single_cands, multi_refs)"
   ]
  },
  {
   "cell_type": "code",
   "execution_count": 3,
   "metadata": {},
   "outputs": [],
   "source": [
    "df = pd.read_csv(substitution_rating_file)\n",
    "\n",
    "df['ROUGE-1_f'], df['ROUGE-1_p'], df['ROUGE-1_r'], df['ROUGE-2_f'], \\\n",
    " df['ROUGE-2_p'], df['ROUGE-2_r'], df['ROUGE-L_f'], df['ROUGE-L_p'], \\\n",
    " df['ROUGE-L_r'] = zip(*df.apply(rouge_scores, axis=1))\n",
    "\n",
    "cols = ['user', 'item_1', 'item_2', 'rating', 'ROUGE-1_r', 'ROUGE-2_r', 'ROUGE-L_r']\n",
    "df = df[cols].rename(columns={c:c.replace('_r', '') for c in cols})"
   ]
  },
  {
   "cell_type": "code",
   "execution_count": 4,
   "metadata": {},
   "outputs": [],
   "source": [
    "filename = substitution_rating_scores['ROUGE']\n",
    "df.to_csv(filename, index=False)"
   ]
  },
  {
   "cell_type": "markdown",
   "metadata": {},
   "source": [
    "# Normalization"
   ]
  },
  {
   "cell_type": "code",
   "execution_count": 5,
   "metadata": {},
   "outputs": [
    {
     "name": "stdout",
     "output_type": "stream",
     "text": [
      "0.318 & 0.242 & 0.318 \n",
      "\n"
     ]
    },
    {
     "data": {
      "text/html": [
       "<div>\n",
       "<style scoped>\n",
       "    .dataframe tbody tr th:only-of-type {\n",
       "        vertical-align: middle;\n",
       "    }\n",
       "\n",
       "    .dataframe tbody tr th {\n",
       "        vertical-align: top;\n",
       "    }\n",
       "\n",
       "    .dataframe thead th {\n",
       "        text-align: right;\n",
       "    }\n",
       "</style>\n",
       "<table border=\"1\" class=\"dataframe\">\n",
       "  <thead>\n",
       "    <tr style=\"text-align: right;\">\n",
       "      <th></th>\n",
       "      <th>rating_z</th>\n",
       "      <th>ROUGE-1</th>\n",
       "      <th>ROUGE-2</th>\n",
       "      <th>ROUGE-L</th>\n",
       "    </tr>\n",
       "  </thead>\n",
       "  <tbody>\n",
       "    <tr>\n",
       "      <th>rating_z</th>\n",
       "      <td>1.0</td>\n",
       "      <td>0.31829</td>\n",
       "      <td>0.241879</td>\n",
       "      <td>0.317582</td>\n",
       "    </tr>\n",
       "  </tbody>\n",
       "</table>\n",
       "</div>"
      ],
      "text/plain": [
       "          rating_z  ROUGE-1   ROUGE-2   ROUGE-L\n",
       "rating_z       1.0  0.31829  0.241879  0.317582"
      ]
     },
     "execution_count": 5,
     "metadata": {},
     "output_type": "execute_result"
    }
   ],
   "source": [
    "cols = ['rating_z', 'ROUGE-1', 'ROUGE-2', 'ROUGE-L']\n",
    "dfs = []\n",
    "for u, df_temp in df.groupby('user'):\n",
    "    df_temp['rating_z'] = zscore(df_temp['rating'])\n",
    "    dfs.append(df_temp)\n",
    "d1_z = pd.concat(dfs)\n",
    "r2 = d1_z[cols].corr().head(1)\n",
    "print(' & '.join([str(s) for s in r2.round(3).values[0][1:]]), '\\n')\n",
    "r2"
   ]
  }
 ],
 "metadata": {
  "kernelspec": {
   "display_name": "Python 3 (ipykernel)",
   "language": "python",
   "name": "python3"
  },
  "language_info": {
   "codemirror_mode": {
    "name": "ipython",
    "version": 3
   },
   "file_extension": ".py",
   "mimetype": "text/x-python",
   "name": "python",
   "nbconvert_exporter": "python",
   "pygments_lexer": "ipython3",
   "version": "3.9.7"
  }
 },
 "nbformat": 4,
 "nbformat_minor": 2
}

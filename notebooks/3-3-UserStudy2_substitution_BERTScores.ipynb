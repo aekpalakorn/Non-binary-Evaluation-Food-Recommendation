{
 "cells": [
  {
   "cell_type": "code",
   "execution_count": 1,
   "metadata": {},
   "outputs": [],
   "source": [
    "import pandas as pd\n",
    "from bert_score import BERTScorer\n",
    "from scipy.stats import zscore\n",
    "\n",
    "from src.config import substitution_rating_file, substitution_rating_scores"
   ]
  },
  {
   "cell_type": "code",
   "execution_count": 2,
   "metadata": {},
   "outputs": [
    {
     "name": "stderr",
     "output_type": "stream",
     "text": [
      "Some weights of the model checkpoint at roberta-large were not used when initializing RobertaModel: ['lm_head.layer_norm.weight', 'lm_head.bias', 'lm_head.dense.bias', 'lm_head.layer_norm.bias', 'lm_head.dense.weight', 'lm_head.decoder.weight']\n",
      "- This IS expected if you are initializing RobertaModel from the checkpoint of a model trained on another task or with another architecture (e.g. initializing a BertForSequenceClassification model from a BertForPreTraining model).\n",
      "- This IS NOT expected if you are initializing RobertaModel from the checkpoint of a model that you expect to be exactly identical (initializing a BertForSequenceClassification model from a BertForSequenceClassification model).\n"
     ]
    },
    {
     "name": "stdout",
     "output_type": "stream",
     "text": [
      "14.784382820129395\n"
     ]
    }
   ],
   "source": [
    "import time\n",
    "start = time.time()\n",
    "scorer = BERTScorer(lang=\"en\", rescale_with_baseline=True)\n",
    "end = time.time()\n",
    "print(end - start)"
   ]
  },
  {
   "cell_type": "code",
   "execution_count": 3,
   "metadata": {},
   "outputs": [],
   "source": [
    "def get_scores(single_cands, multi_refs):\n",
    "    P_mul, R_mul, F_mul = scorer.score([single_cands], [multi_refs])\n",
    "    return P_mul.item(), R_mul.item(), F_mul.item()\n",
    "\n",
    "def scores(line):\n",
    "    return get_scores(line['item_2'].lower(), line['item_1'].lower())"
   ]
  },
  {
   "cell_type": "code",
   "execution_count": 59,
   "metadata": {},
   "outputs": [
    {
     "name": "stdout",
     "output_type": "stream",
     "text": [
      "(0.30472931265830994, 0.2820392847061157, 0.2945074141025543)\n",
      "(0.34518226981163025, 0.21366684138774872, 0.279764324426651)\n",
      "(0.21180827915668488, 0.4166193902492523, 0.3133380115032196)\n",
      "(0.16183911263942719, 0.0072509958408772945, 0.08484045416116714)\n"
     ]
    }
   ],
   "source": [
    "# testing BERTScorer\n",
    "X = [\"Almond bars\"]\n",
    "Y = [\"Cheese Burger\", \"Roasted Walnuts\", \"Hot coffee\", \"Jupiter and Zeus\"]\n",
    "print(get_scores(X[0].lower(), Y[0].lower()))\n",
    "print(get_scores(X[0].lower(), Y[1].lower()))\n",
    "print(get_scores(X[0].lower(), Y[2].lower()))\n",
    "print(get_scores(X[0].lower(), Y[3].lower()))"
   ]
  },
  {
   "cell_type": "code",
   "execution_count": 4,
   "metadata": {},
   "outputs": [],
   "source": [
    "df = pd.read_csv(substitution_rating_file)"
   ]
  },
  {
   "cell_type": "code",
   "execution_count": 5,
   "metadata": {},
   "outputs": [
    {
     "name": "stdout",
     "output_type": "stream",
     "text": [
      "737.2809174060822\n"
     ]
    }
   ],
   "source": [
    "import time\n",
    "start = time.time()\n",
    "df['P'], df['R'], df['F1'] = zip(*df.apply(scores, axis=1))\n",
    "end = time.time()\n",
    "print(end - start)"
   ]
  },
  {
   "cell_type": "code",
   "execution_count": 6,
   "metadata": {},
   "outputs": [],
   "source": [
    "cols = ['user', 'item_1', 'item_2', 'rating', 'P', 'R', 'F1']\n",
    "df = df[cols]\n",
    "# df = df[cols].rename(columns={'R':'BERTScore', 'F1':'BERTScore-F1'})"
   ]
  },
  {
   "cell_type": "code",
   "execution_count": 7,
   "metadata": {},
   "outputs": [],
   "source": [
    "filename = substitution_rating_scores['BERTScores']\n",
    "df.to_csv(filename, index=False)"
   ]
  },
  {
   "cell_type": "markdown",
   "metadata": {},
   "source": [
    "# Normalization"
   ]
  },
  {
   "cell_type": "code",
   "execution_count": 9,
   "metadata": {},
   "outputs": [
    {
     "name": "stdout",
     "output_type": "stream",
     "text": [
      "0.203 & 0.246 \n",
      "\n"
     ]
    },
    {
     "data": {
      "text/html": [
       "<div>\n",
       "<style scoped>\n",
       "    .dataframe tbody tr th:only-of-type {\n",
       "        vertical-align: middle;\n",
       "    }\n",
       "\n",
       "    .dataframe tbody tr th {\n",
       "        vertical-align: top;\n",
       "    }\n",
       "\n",
       "    .dataframe thead th {\n",
       "        text-align: right;\n",
       "    }\n",
       "</style>\n",
       "<table border=\"1\" class=\"dataframe\">\n",
       "  <thead>\n",
       "    <tr style=\"text-align: right;\">\n",
       "      <th></th>\n",
       "      <th>rating_z</th>\n",
       "      <th>R</th>\n",
       "      <th>F1</th>\n",
       "    </tr>\n",
       "  </thead>\n",
       "  <tbody>\n",
       "    <tr>\n",
       "      <th>rating_z</th>\n",
       "      <td>1.0</td>\n",
       "      <td>0.203448</td>\n",
       "      <td>0.245858</td>\n",
       "    </tr>\n",
       "  </tbody>\n",
       "</table>\n",
       "</div>"
      ],
      "text/plain": [
       "          rating_z         R        F1\n",
       "rating_z       1.0  0.203448  0.245858"
      ]
     },
     "execution_count": 9,
     "metadata": {},
     "output_type": "execute_result"
    }
   ],
   "source": [
    "cols = ['rating_z', 'R', 'F1']\n",
    "\n",
    "dfs = []\n",
    "for u, df_temp in df.groupby('user'):\n",
    "    df_temp['rating_z'] = zscore(df_temp['rating'])\n",
    "    dfs.append(df_temp)\n",
    "d1_z = pd.concat(dfs)\n",
    "r2 = d1_z[cols].corr().head(1)\n",
    "print(' & '.join([str(s) for s in r2.round(3).values[0][1:]]), '\\n')\n",
    "r2"
   ]
  }
 ],
 "metadata": {
  "kernelspec": {
   "display_name": "Python 3 (ipykernel)",
   "language": "python",
   "name": "python3"
  },
  "language_info": {
   "codemirror_mode": {
    "name": "ipython",
    "version": 3
   },
   "file_extension": ".py",
   "mimetype": "text/x-python",
   "name": "python",
   "nbconvert_exporter": "python",
   "pygments_lexer": "ipython3",
   "version": "3.9.7"
  }
 },
 "nbformat": 4,
 "nbformat_minor": 2
}

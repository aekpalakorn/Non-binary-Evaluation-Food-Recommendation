{
 "cells": [
  {
   "cell_type": "code",
   "execution_count": 1,
   "id": "b1ade236",
   "metadata": {},
   "outputs": [],
   "source": [
    "%matplotlib inline\n",
    "\n",
    "import os\n",
    "\n",
    "import pandas as pd\n",
    "import seaborn as sns\n",
    "import matplotlib.pyplot as plt\n",
    "\n",
    "from src.config import FIG_DIR, DIARY_DIR"
   ]
  },
  {
   "cell_type": "code",
   "execution_count": 2,
   "id": "c917eeec",
   "metadata": {},
   "outputs": [],
   "source": [
    "figure_data_file = os.path.join(FIG_DIR, 'fig_3_data.csv')\n",
    "figure_name = os.path.join(FIG_DIR, 'paper_fig_3.png')\n",
    "\n",
    "if not os.path.exists(figure_data_file):\n",
    "    input_data = {}\n",
    "    data_files = [f for f in os.listdir(DIARY_DIR) if os.path.isfile(os.path.join(DIARY_DIR, f))]\n",
    "    for data_file in data_files:\n",
    "            input_data.update({data_file : pd.read_csv(os.path.join(DIARY_DIR, data_file))})\n",
    "    number_days = [len(user_df.columns) for user_df in input_data.values() ]\n",
    "    number_days = pd.Series(number_days)\n",
    "    number_days.name = \"n_days\"\n",
    "    number_days.to_csv(figure_data_file, index=False)"
   ]
  },
  {
   "cell_type": "markdown",
   "id": "926fa539",
   "metadata": {},
   "source": [
    "# Histogram of number of recording days"
   ]
  },
  {
   "cell_type": "code",
   "execution_count": 3,
   "id": "af7efe14",
   "metadata": {},
   "outputs": [],
   "source": [
    "def plot_fig3(data, figure_name=figure_name, trancation=True, change_default_color='black'):    \n",
    "    plt.rc('pdf', fonttype=42)\n",
    "    sns.set(style=\"ticks\")\n",
    "    sns.set_context('paper', font_scale=1.3)\n",
    "    plt.subplots(figsize=(6, 3))\n",
    "        \n",
    "    bins = [i_bin - 0.5 for i_bin in range(60)]\n",
    "    if trancation:\n",
    "        data[data > 50] = data[data > 50] - 25\n",
    "    \n",
    "    if change_default_color:\n",
    "        ax = sns.distplot(data, bins=bins, kde=False, color='black')\n",
    "    else:\n",
    "        ax = sns.histplot(data=data, bins=bins, shrink=0.9)\n",
    "    \n",
    "    if trancation:\n",
    "        ax.set_xlim(xmin=-0.01, xmax = 35.1)\n",
    "        ax.set_ylim(ymin=-0.01, ymax = 25.1)\n",
    "        plt.gca().set_xticklabels([0,5,10,15,20,50,55,60])\n",
    "        # FAKE BROKEN AXES\n",
    "        # plot a white rectangle on the x-axis-spine to \"break\" it\n",
    "        xpos = 22.5 # x position of the \"break\"\n",
    "        ypos = plt.gca().get_ylim()[0] # y position of the \"break\"\n",
    "        plt.scatter(xpos, ypos-2.25, color='white', marker='s', s=80, clip_on=False, zorder=100)\n",
    "        # draw \"//\" on the same place as text\n",
    "        plt.text(xpos, -2.25, r'//', zorder=101, horizontalalignment='center', verticalalignment='center')\n",
    "    else:\n",
    "        ax.set_xlim(xmin=0, xmax = 60)\n",
    "        ax.set_ylim(ymin=0, ymax = 25)\n",
    "        \n",
    "    ax.grid(ls=\"dotted\")\n",
    "    ax.set_ylabel(\"Number of participants\")\n",
    "    ax.set_xlabel(\"Number of recording days\")\n",
    "    \n",
    "    sns.despine(offset=10, trim=True)\n",
    "    plt.legend([],[], frameon=False)\n",
    "    plt.tight_layout()\n",
    "    plt.savefig(figure_name, dpi=200, transparent=False, bbox_inches='tight', pad_inches=0.0)\n",
    "    plt.show()"
   ]
  },
  {
   "cell_type": "code",
   "execution_count": 4,
   "id": "0c0aa1e8",
   "metadata": {},
   "outputs": [
    {
     "name": "stderr",
     "output_type": "stream",
     "text": [
      "C:\\Users\\Yue\\.conda\\envs\\py376\\lib\\site-packages\\seaborn\\distributions.py:2619: FutureWarning: `distplot` is a deprecated function and will be removed in a future version. Please adapt your code to use either `displot` (a figure-level function with similar flexibility) or `histplot` (an axes-level function for histograms).\n",
      "  warnings.warn(msg, FutureWarning)\n",
      "C:\\Users\\Yue\\.conda\\envs\\py376\\lib\\site-packages\\ipykernel_launcher.py:19: UserWarning: FixedFormatter should only be used together with FixedLocator\n"
     ]
    },
    {
     "data": {
      "image/png": "[encoded data removed]",
      "text/plain": [
       "<Figure size 432x216 with 1 Axes>"
      ]
     },
     "metadata": {},
     "output_type": "display_data"
    }
   ],
   "source": [
    "data = pd.read_csv(figure_data_file)\n",
    "plot_fig3(data)"
   ]
  },
  {
   "cell_type": "code",
   "execution_count": null,
   "id": "7424e95b",
   "metadata": {},
   "outputs": [],
   "source": []
  }
 ],
 "metadata": {
  "kernelspec": {
   "display_name": "Python 3 (ipykernel)",
   "language": "python",
   "name": "python3"
  },
  "language_info": {
   "codemirror_mode": {
    "name": "ipython",
    "version": 3
   },
   "file_extension": ".py",
   "mimetype": "text/x-python",
   "name": "python",
   "nbconvert_exporter": "python",
   "pygments_lexer": "ipython3",
   "version": "3.7.6"
  }
 },
 "nbformat": 4,
 "nbformat_minor": 5
}

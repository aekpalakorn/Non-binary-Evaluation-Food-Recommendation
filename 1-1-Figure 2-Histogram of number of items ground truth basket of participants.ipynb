{
 "cells": [
  {
   "cell_type": "code",
   "execution_count": 3,
   "id": "b1ade236",
   "metadata": {},
   "outputs": [],
   "source": [
    "%matplotlib inline\n",
    "\n",
    "import os\n",
    "\n",
    "import pandas as pd\n",
    "import seaborn as sns\n",
    "import matplotlib.pyplot as plt\n",
    "\n",
    "from src.config import FIG_DIR, DIARY_DIR"
   ]
  },
  {
   "cell_type": "code",
   "execution_count": 4,
   "id": "4f3411ab",
   "metadata": {},
   "outputs": [],
   "source": [
    "figure_data_file = os.path.join(FIG_DIR, 'fig_2_data.csv')\n",
    "figure_name = os.path.join(FIG_DIR, 'paper_fig_2.png')\n",
    "\n",
    "if not os.path.exists(figure_data_file):\n",
    "    input_data = {}\n",
    "    data_files = [f for f in os.listdir(DIARY_DIR) if os.path.isfile(os.path.join(DIARY_DIR, f))]\n",
    "    for data_file in data_files:\n",
    "            input_data.update({data_file : pd.read_csv(os.path.join(DIARY_DIR, data_file))})\n",
    "\n",
    "    number_gi = [user_df.iloc[:,-1:].notna().sum()[0] for user_df in input_data.values() ]\n",
    "    number_gi = [i for i in number_gi if i!= 0]\n",
    "    number_gi.extend([12])\n",
    "    number_gi = pd.Series(number_gi)\n",
    "    number_gi.name = \"n_items\"\n",
    "    number_gi.to_csv(figure_data_file, index=False)"
   ]
  },
  {
   "cell_type": "markdown",
   "id": "90b00581",
   "metadata": {},
   "source": [
    "# Histogram of number of items in $G(i)$"
   ]
  },
  {
   "cell_type": "code",
   "execution_count": 5,
   "id": "5d2abd47",
   "metadata": {},
   "outputs": [],
   "source": [
    "def plot_fig2(data, figure_name=figure_name, change_default_color='black'):    \n",
    "\n",
    "    plt.rc('pdf', fonttype=42)\n",
    "    sns.set(style=\"ticks\")\n",
    "    sns.set_context('paper', font_scale=1.3)\n",
    "    plt.subplots(figsize=(6, 3))\n",
    "\n",
    "    bins = [i_bin - 0.5 for i_bin in range(28)]\n",
    "    if change_default_color:\n",
    "        ax = sns.distplot(data, bins=bins, kde=False, color='black')\n",
    "    else:\n",
    "        ax = sns.histplot(data=data, bins=bins, shrink=0.9)\n",
    "    ax.set_xlim(xmin=-0.1, xmax = 30.1)\n",
    "    ax.set_ylim(ymin=-0.1, ymax = 10.1)\n",
    "\n",
    "    ax.grid(ls=\"dotted\")\n",
    "    ax.set_ylabel(\"Number of participants\")\n",
    "    ax.set_xlabel(\"Size of ground truth basket\")\n",
    "    sns.despine(offset=10, trim=True)\n",
    "    \n",
    "    plt.legend([],[], frameon=False)\n",
    "    plt.tight_layout()\n",
    "    plt.savefig(figure_name, dpi=200, transparent=False, bbox_inches='tight', pad_inches=0.0)\n",
    "    plt.show()\n"
   ]
  },
  {
   "cell_type": "code",
   "execution_count": 6,
   "id": "0bc24988",
   "metadata": {},
   "outputs": [
    {
     "name": "stderr",
     "output_type": "stream",
     "text": [
      "C:\\Users\\aekpa\\anaconda3\\lib\\site-packages\\seaborn\\distributions.py:2619: FutureWarning: `distplot` is a deprecated function and will be removed in a future version. Please adapt your code to use either `displot` (a figure-level function with similar flexibility) or `histplot` (an axes-level function for histograms).\n",
      "  warnings.warn(msg, FutureWarning)\n"
     ]
    },
    {
     "data": {
      "image/png": "[encoded data removed]",
      "text/plain": [
       "<Figure size 432x216 with 1 Axes>"
      ]
     },
     "metadata": {},
     "output_type": "display_data"
    }
   ],
   "source": [
    "data = pd.read_csv(figure_data_file)\n",
    "plot_fig2(data)"
   ]
  },
  {
   "cell_type": "code",
   "execution_count": null,
   "id": "9b5221df",
   "metadata": {},
   "outputs": [],
   "source": []
  }
 ],
 "metadata": {
  "kernelspec": {
   "display_name": "Python 3 (ipykernel)",
   "language": "python",
   "name": "python3"
  },
  "language_info": {
   "codemirror_mode": {
    "name": "ipython",
    "version": 3
   },
   "file_extension": ".py",
   "mimetype": "text/x-python",
   "name": "python",
   "nbconvert_exporter": "python",
   "pygments_lexer": "ipython3",
   "version": "3.9.7"
  }
 },
 "nbformat": 4,
 "nbformat_minor": 5
}

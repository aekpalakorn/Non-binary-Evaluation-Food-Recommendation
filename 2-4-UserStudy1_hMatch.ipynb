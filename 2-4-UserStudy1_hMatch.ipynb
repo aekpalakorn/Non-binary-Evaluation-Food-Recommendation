{
 "cells": [
  {
   "cell_type": "code",
   "execution_count": 1,
   "metadata": {},
   "outputs": [],
   "source": [
    "import re\n",
    "import itertools\n",
    "import numpy as np\n",
    "import pandas as pd\n",
    "\n",
    "from collections import defaultdict\n",
    "from sklearn.metrics import recall_score\n",
    "\n",
    "from src.config import mturk_simjudgement_file, mturk_substitution_rating_scores\n",
    "from src.config import label_file, weighing_scheme, lst_ref\n",
    "from src.io import load_pickle\n",
    "\n",
    "import warnings\n",
    "warnings.filterwarnings('ignore')"
   ]
  },
  {
   "cell_type": "code",
   "execution_count": 2,
   "metadata": {},
   "outputs": [],
   "source": [
    "# some name is written in the users' format for easy user reference\n",
    "def process_food_name(s1):\n",
    "    # separators: \", \" + any of (integer, decimal & fraction) +\" \"\n",
    "    exp = r\", \\d+\\.\\d+ |, \\d+\\,\\d+ |, \\d+ |, \\d+\\/\\d+ \"\n",
    "    # remove content in parenthesis for finding the separator\n",
    "    if s1.count('(') == s1.count(')'):\n",
    "        s2 = re.sub(r'[(].*?[\\)]', ' ', s1)\n",
    "    else:\n",
    "        s2 = s1\n",
    "    try:\n",
    "        split_by = re.findall(exp, s2)[0]\n",
    "        return clean_name(s1.split(split_by)[0])\n",
    "    except:\n",
    "        return clean_name(s2)\n",
    "\n",
    "def clean_name(name):\n",
    "    name = name.replace(\"\\t\", \" \").replace(\"\\n\", \" \").replace(\"w/o\", \" no \").replace(\"w/\", \" \")\n",
    "    return re.sub(' +', ' ', name.strip()).lower()\n",
    "\n",
    "def token_transform(t):\n",
    "    tokens = [t, t+'s', t+'es']\n",
    "    if t[-1] == 'y':\n",
    "        tokens.append(t[:-1]+'ies')\n",
    "    return tokens  \n"
   ]
  },
  {
   "cell_type": "code",
   "execution_count": 3,
   "metadata": {},
   "outputs": [
    {
     "name": "stdout",
     "output_type": "stream",
     "text": [
      "0.07882094383239746\n"
     ]
    }
   ],
   "source": [
    "import time\n",
    "start = time.time()\n",
    "df = pd.read_csv(mturk_simjudgement_file)\n",
    "df['item_10'] = df['gt_item'].apply(process_food_name)\n",
    "df['item_20'] = df['rec_item'].apply(process_food_name)\n",
    "end = time.time()\n",
    "print(end-start)"
   ]
  },
  {
   "cell_type": "code",
   "execution_count": 4,
   "metadata": {},
   "outputs": [],
   "source": [
    "# index -> label\n",
    "labels = load_pickle(label_file)\n",
    "label_with_food = defaultdict(list)\n",
    "def group_food_name(line):\n",
    "    s = line['food_name']\n",
    "    for i in line['label_summary']:\n",
    "        label_with_food[i].append(s)\n",
    "labels.apply(group_food_name, axis=1) \n",
    "\n",
    "l0 = set(i for j in labels['label_summary'].tolist() for i in j)\n",
    "# labels['max'] = labels['label_summary'].apply(lambda s: max(s) if len(s)>0 else 0)\n",
    "\n",
    "# '_' connected tokens for l0 tags\n",
    "concat_list = list(zip(labels['cat_info'], labels['label_summary']))\n",
    "label_index = dict()\n",
    "for i,j in concat_list:\n",
    "    label_index.update(zip(i,j))  \n",
    "index_label = {k:v for v,k in label_index.items()}\n",
    "label_index_l0 = {i.split('__')[-1]:v for i,v in label_index.items() if len(i.split('__'))==3}\n",
    "l0_tags = sorted(label_index_l0.keys())\n",
    "\n",
    "\n",
    "label_name_l0 = {}\n",
    "for l,i in label_index_l0.items():\n",
    "    label_name_l0[l] = label_with_food[i]\n",
    "\n",
    "name_labels = labels.set_index('food_name').to_dict()['cat_info']\n",
    "name_label_0 = {k:[s.split('__')[-1] for s in v if len(s.split('__'))==3] for k,v in name_labels.items()}\n",
    "\n",
    "matched_label_l0, unmatched_label_l0 = [], []\n",
    "for l, s_lst in label_name_l0.items():    \n",
    "    l_primes = [token_transform(t) for t in l.split('_')]\n",
    "    l2 = list(itertools.product(*l_primes))\n",
    "    l_primes = [' '.join(i) for i in l2]  \n",
    " \n",
    "    matched = False\n",
    "    for s in s_lst:\n",
    "        s = ' '.join(s.replace(\"'\", '').replace('&', ' ').split())\n",
    "        for l_prime in l_primes:\n",
    "            if l_prime in s:            \n",
    "                matched = True\n",
    "            \n",
    "    if matched:\n",
    "        matched_label_l0.append(l)\n",
    "    else:\n",
    "        unmatched_label_l0.append(l)        \n",
    "\n",
    "# get all labels associated with item\n",
    "def match_labels(s):\n",
    "    if s in name_label_0.keys():\n",
    "        found = name_label_0[s] \n",
    "    else:\n",
    "        found = []\n",
    "        s = ' '.join(s.replace(\"'\", '').replace('&', ' ').split())\n",
    "        for l in matched_label_l0:\n",
    "            matched = False\n",
    "            l_primes = [token_transform(t) for t in l.split('_')]\n",
    "            for l_prime in [' '.join(i) for i in list(itertools.product(*l_primes))]:\n",
    "                if l_prime in s:  \n",
    "                    matched = True\n",
    "            if matched:\n",
    "                found.append(l) \n",
    "                        \n",
    "    # full label names\n",
    "    all_labels = []\n",
    "    if len(found) > 0:\n",
    "        full_label_l0 = [index_label[label_index_l0[l0_label]] for l0_label in found]\n",
    "        for l0 in full_label_l0:\n",
    "            l2 = l0.split('__')[0]\n",
    "            l1 = '__'.join(l0.split('__')[:2])\n",
    "            all_labels.extend([l2, l1, l0])\n",
    "    return sorted(set(all_labels))     "
   ]
  },
  {
   "cell_type": "code",
   "execution_count": 5,
   "metadata": {},
   "outputs": [
    {
     "name": "stdout",
     "output_type": "stream",
     "text": [
      "0.05189657211303711\n"
     ]
    }
   ],
   "source": [
    "import time\n",
    "start = time.time()\n",
    "df['item_l1'] = df['item_10'].apply(match_labels)\n",
    "df['item_l2'] = df['item_20'].apply(match_labels)\n",
    "df['l1'] = df['item_l1'].apply(lambda s: [label_index[i] for i in s] if len(s)>0 else [])\n",
    "df['l2'] = df['item_l2'].apply(lambda s: [label_index[i] for i in s] if len(s)>0 else [])\n",
    "end = time.time()\n",
    "print(end-start)"
   ]
  },
  {
   "cell_type": "code",
   "execution_count": 6,
   "metadata": {},
   "outputs": [],
   "source": [
    "# from sklearn.metrics import recall_score \n",
    "item_vec_dic = {}\n",
    "\n",
    "def h_recall_vectorize(gt_item, c_item, weight):\n",
    "    # ground truth, prediction, weight on labels\n",
    "    # compute for each ground truth item, h-recall for 1 candidate\n",
    "    return _h_recall_vectorize(gt_item, c_item, weight)\n",
    "\n",
    "def _h_recall_vectorize(gt_item, c_item, weight):\n",
    "    if c_item == gt_item:\n",
    "        return 1\n",
    "    else:\n",
    "        # recall score: out of the ground truth item, # of predictions\n",
    "        # recall_score(y_true, y_pred, sample_weight=None)\n",
    "        return recall_score(get_vector(gt_item), get_vector(c_item), sample_weight=weight)\n",
    "\n",
    "def get_vector(item, item_vec_dic=item_vec_dic, shape=len(lst_ref)):\n",
    "    if tuple(item) in item_vec_dic.keys():\n",
    "        return item_vec_dic[tuple(item)]\n",
    "    else:\n",
    "        vec = np.zeros(shape, dtype=int)\n",
    "        vec[item] = 1\n",
    "        item_vec_dic.update({tuple(item):vec})\n",
    "        return vec\n",
    "\n",
    "def h_recall(gt_item, c_item):\n",
    "    return len(set(c_item) & set(gt_item))/ len(set(gt_item))\n",
    "\n",
    "def get_hr(weight, df=df, column_name='hR'):\n",
    "    def h_recall_df(row, weight=weight):\n",
    "        if isinstance(weight, bool):\n",
    "            return h_recall(row['l1'], row['l2'])\n",
    "        else:\n",
    "            return h_recall_vectorize(row['l1'], row['l2'], weight)\n",
    "    df[column_name] = df.apply(h_recall_df, axis=1)\n",
    "    return df"
   ]
  },
  {
   "cell_type": "code",
   "execution_count": 7,
   "metadata": {},
   "outputs": [
    {
     "name": "stdout",
     "output_type": "stream",
     "text": [
      "12.184744119644165\n"
     ]
    }
   ],
   "source": [
    "import time\n",
    "start = time.time()\n",
    "df = get_hr(weight=False, df=df, column_name='hMatch-1')\n",
    "\n",
    "ks = ['124', 'freq']\n",
    "for k in ks:\n",
    "    weight = weighing_scheme[k]\n",
    "    df = get_hr(weight=weight, df=df, column_name='hMatch_'+ k)\n",
    "end = time.time()\n",
    "print(end-start)"
   ]
  },
  {
   "cell_type": "code",
   "execution_count": 8,
   "metadata": {},
   "outputs": [],
   "source": [
    "cols = ['gt_item', 'rec_item', 'gt_item_id', 'rec_item_id', 'hint', 'SimJudgement', \n",
    "        'hMatch-1', 'hMatch_124', 'hMatch_freq']\n",
    "df = df[cols]\n",
    "df.columns = ['gt_item', 'rec_item', 'gt_item_id', 'rec_item_id', 'hint', 'SimJudgement', \n",
    "              'hMatch-1', 'hMatch-2', 'hMatch-freq']"
   ]
  },
  {
   "cell_type": "code",
   "execution_count": 9,
   "metadata": {},
   "outputs": [],
   "source": [
    "filename = mturk_substitution_rating_scores['hMatch']\n",
    "df.to_csv(filename, index=False)"
   ]
  }
 ],
 "metadata": {
  "kernelspec": {
   "display_name": "Python 3 (ipykernel)",
   "language": "python",
   "name": "python3"
  },
  "language_info": {
   "codemirror_mode": {
    "name": "ipython",
    "version": 3
   },
   "file_extension": ".py",
   "mimetype": "text/x-python",
   "name": "python",
   "nbconvert_exporter": "python",
   "pygments_lexer": "ipython3",
   "version": "3.9.7"
  }
 },
 "nbformat": 4,
 "nbformat_minor": 2
}

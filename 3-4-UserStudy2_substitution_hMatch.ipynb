{
 "cells": [
  {
   "cell_type": "code",
   "execution_count": 1,
   "metadata": {},
   "outputs": [],
   "source": [
    "import re\n",
    "import itertools\n",
    "import numpy as np\n",
    "import pandas as pd\n",
    "\n",
    "from scipy.stats import zscore\n",
    "from collections import defaultdict\n",
    "from sklearn.metrics import precision_score \n",
    "\n",
    "from src.config import substitution_rating_file, label_file, substitution_rating_scores, weighing_scheme\n",
    "from src.io import load_pickle\n",
    "\n",
    "import warnings\n",
    "warnings.filterwarnings('ignore')"
   ]
  },
  {
   "cell_type": "code",
   "execution_count": 2,
   "metadata": {},
   "outputs": [],
   "source": [
    "# some name is written in the users' format for easy user reference\n",
    "def process_food_name(s1):\n",
    "    # separators: \", \" + any of (integer, decimal & fraction) +\" \"\n",
    "    exp = r\", \\d+\\.\\d+ |, \\d+\\,\\d+ |, \\d+ |, \\d+\\/\\d+ \"\n",
    "    # remove content in parenthesis for finding the separator\n",
    "    if s1.count('(') == s1.count(')'):\n",
    "        s2 = re.sub(r'[(].*?[\\)]', ' ', s1)\n",
    "    else:\n",
    "        s2 = s1\n",
    "    try:\n",
    "        split_by = re.findall(exp, s2)[0]\n",
    "        return clean_name(s1.split(split_by)[0])\n",
    "    except:\n",
    "        return clean_name(s2)\n",
    "\n",
    "def clean_name(name):\n",
    "    name = name.replace(\"\\t\", \" \").replace(\"\\n\", \" \").replace(\"w/o\", \" no \").replace(\"w/\", \" \")\n",
    "    return re.sub(' +', ' ', name.strip()).lower()\n",
    "\n",
    "def token_transform(t):\n",
    "    tokens = [t, t+'s', t+'es']\n",
    "    if t[-1] == 'y':\n",
    "        tokens.append(t[:-1]+'ies')\n",
    "    return tokens  \n"
   ]
  },
  {
   "cell_type": "code",
   "execution_count": 3,
   "metadata": {},
   "outputs": [
    {
     "name": "stdout",
     "output_type": "stream",
     "text": [
      "0.060837507247924805\n"
     ]
    }
   ],
   "source": [
    "import time\n",
    "start = time.time()\n",
    "df = pd.read_csv(substitution_rating_file)\n",
    "df['item_10'] = df['item_1'].apply(process_food_name)\n",
    "df['item_20'] = df['item_2'].apply(process_food_name)\n",
    "end = time.time()\n",
    "print(end - start)"
   ]
  },
  {
   "cell_type": "code",
   "execution_count": 4,
   "metadata": {},
   "outputs": [],
   "source": [
    "# index -> label\n",
    "labels = load_pickle(label_file)\n",
    "label_with_food = defaultdict(list)\n",
    "def group_food_name(line):\n",
    "    s = line['food_name']\n",
    "    for i in line['label_summary']:\n",
    "        label_with_food[i].append(s)\n",
    "labels.apply(group_food_name, axis=1) \n",
    "\n",
    "l0 = set(i for j in labels['label_summary'].tolist() for i in j)\n",
    "# labels['max'] = labels['label_summary'].apply(lambda s: max(s) if len(s)>0 else 0)\n",
    "\n",
    "# '_' connected tokens for l0 tags\n",
    "concat_list = list(zip(labels['cat_info'], labels['label_summary']))\n",
    "label_index = dict()\n",
    "for i,j in concat_list:\n",
    "    label_index.update(zip(i,j))  \n",
    "index_label = {k:v for v,k in label_index.items()}\n",
    "label_index_l0 = {i.split('__')[-1]:v for i,v in label_index.items() if len(i.split('__'))==3}\n",
    "l0_tags = sorted(label_index_l0.keys())\n",
    "\n",
    "\n",
    "label_name_l0 = {}\n",
    "for l,i in label_index_l0.items():\n",
    "    label_name_l0[l] = label_with_food[i]\n",
    "\n",
    "name_labels = labels.set_index('food_name').to_dict()['cat_info']\n",
    "name_label_0 = {k:[s.split('__')[-1] for s in v if len(s.split('__'))==3] for k,v in name_labels.items()}\n",
    "\n",
    "matched_label_l0, unmatched_label_l0 = [], []\n",
    "for l, s_lst in label_name_l0.items():    \n",
    "    l_primes = [token_transform(t) for t in l.split('_')]\n",
    "    l2 = list(itertools.product(*l_primes))\n",
    "    l_primes = [' '.join(i) for i in l2]  \n",
    " \n",
    "    matched = False\n",
    "    for s in s_lst:\n",
    "        s = ' '.join(s.replace(\"'\", '').replace('&', ' ').split())\n",
    "        for l_prime in l_primes:\n",
    "            if l_prime in s:            \n",
    "                matched = True\n",
    "            \n",
    "    if matched:\n",
    "        matched_label_l0.append(l)\n",
    "    else:\n",
    "        unmatched_label_l0.append(l)        \n",
    "\n",
    "# get all labels associated with item\n",
    "def match_labels(s):\n",
    "    if s in name_label_0.keys():\n",
    "        found = name_label_0[s] \n",
    "    else:\n",
    "        found = []\n",
    "        s = ' '.join(s.replace(\"'\", '').replace('&', ' ').split())\n",
    "        for l in matched_label_l0:\n",
    "            matched = False\n",
    "            l_primes = [token_transform(t) for t in l.split('_')]\n",
    "            for l_prime in [' '.join(i) for i in list(itertools.product(*l_primes))]:\n",
    "                if l_prime in s:  \n",
    "                    matched = True\n",
    "            if matched:\n",
    "                found.append(l) \n",
    "                        \n",
    "    # full label names\n",
    "    all_labels = []\n",
    "    if len(found) > 0:\n",
    "        full_label_l0 = [index_label[label_index_l0[l0_label]] for l0_label in found]\n",
    "        for l0 in full_label_l0:\n",
    "            l2 = l0.split('__')[0]\n",
    "            l1 = '__'.join(l0.split('__')[:2])\n",
    "            all_labels.extend([l2, l1, l0])\n",
    "    return sorted(set(all_labels))     "
   ]
  },
  {
   "cell_type": "code",
   "execution_count": 5,
   "metadata": {},
   "outputs": [
    {
     "name": "stdout",
     "output_type": "stream",
     "text": [
      "23.945932149887085\n"
     ]
    }
   ],
   "source": [
    "import time\n",
    "start = time.time()\n",
    "df['item_l1'] = df['item_10'].apply(match_labels)\n",
    "df['item_l2'] = df['item_20'].apply(match_labels)\n",
    "df['l1'] = df['item_l1'].apply(lambda s: [label_index[i] for i in s] if len(s)>0 else [])\n",
    "df['l2'] = df['item_l2'].apply(lambda s: [label_index[i] for i in s] if len(s)>0 else [])\n",
    "end = time.time()\n",
    "print(end - start)"
   ]
  },
  {
   "cell_type": "code",
   "execution_count": 6,
   "metadata": {},
   "outputs": [
    {
     "name": "stdout",
     "output_type": "stream",
     "text": [
      "14.289854526519775\n"
     ]
    }
   ],
   "source": [
    "def get_hp(gt_lst, rec_lst, weight):\n",
    "    scores = [h_precision_vectorize(gt_lst, rec, weight) for rec in rec_lst]\n",
    "    # return np.nan if rec_lst is []\n",
    "    return np.mean(scores)\n",
    "\n",
    "def h_precision_vectorize(gt_lst, rec, weight):\n",
    "    x = np.zeros((len(gt_lst), weight.shape[0]), dtype=int)\n",
    "    for i, gt_item in enumerate(gt_lst):\n",
    "        x[i, gt_item] = 1\n",
    "    y = np.zeros(weight.shape[0], dtype=int)\n",
    "    y[rec] = 1\n",
    "    return max([precision_score(xi, y, sample_weight=weight) for xi in x])\n",
    "\n",
    "def get_hr(gt_lst, rec_lst, weight):\n",
    "    return  get_hp(rec_lst, gt_lst, weight)\n",
    "\n",
    "def get_hr_1(line):\n",
    "    return get_hr([line['l1']], [line['l2']], weight=weighing_scheme['equal'])\n",
    "\n",
    "def get_hr_2(line):\n",
    "    return get_hr([line['l1']], [line['l2']], weight=weighing_scheme['124'])\n",
    "\n",
    "def get_hr_freq(line):\n",
    "    return get_hr([line['l1']], [line['l2']], weight=weighing_scheme['freq'])\n",
    "\n",
    "import time\n",
    "start = time.time()\n",
    "df['hMatch-1'] = df.apply(get_hr_1, axis=1)\n",
    "df['hMatch-2'] = df.apply(get_hr_2, axis=1)\n",
    "df['hMatch-freq'] = df.apply(get_hr_freq, axis=1)\n",
    "end = time.time()\n",
    "print(end - start)"
   ]
  },
  {
   "cell_type": "code",
   "execution_count": 7,
   "metadata": {},
   "outputs": [],
   "source": [
    "cols = ['user', 'item_1', 'item_2', 'rating', 'hMatch-1', 'hMatch-2', 'hMatch-freq']\n",
    "df = df[cols]\n",
    "filename = substitution_rating_scores['hMatch']\n",
    "df.to_csv(filename, index=False)"
   ]
  },
  {
   "cell_type": "markdown",
   "metadata": {},
   "source": [
    "# Normalize"
   ]
  },
  {
   "cell_type": "code",
   "execution_count": null,
   "metadata": {},
   "outputs": [],
   "source": [
    "# cols = [ 'rating_z', 'hMatch-1', 'hMatch-2', 'hMatch-freq']\n",
    "\n",
    "# from scipy.stats import zscore\n",
    "# dfs = []\n",
    "# for u, df_temp in d1.groupby('user'):\n",
    "#     df_temp['rating_z'] = zscore(df_temp['rating'])\n",
    "#     dfs.append(df_temp)\n",
    "# d1_z = pd.concat(dfs)\n",
    "# r2 = d1_z[cols].corr().head(1).round(3)\n",
    "# print(' & '.join([str(s) for s in r2.values[0][1:]]), '\\n')\n",
    "# r2"
   ]
  }
 ],
 "metadata": {
  "kernelspec": {
   "display_name": "Python 3 (ipykernel)",
   "language": "python",
   "name": "python3"
  },
  "language_info": {
   "codemirror_mode": {
    "name": "ipython",
    "version": 3
   },
   "file_extension": ".py",
   "mimetype": "text/x-python",
   "name": "python",
   "nbconvert_exporter": "python",
   "pygments_lexer": "ipython3",
   "version": "3.9.7"
  }
 },
 "nbformat": 4,
 "nbformat_minor": 2
}
